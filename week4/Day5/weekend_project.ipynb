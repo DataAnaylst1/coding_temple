{
 "cells": [
  {
   "cell_type": "markdown",
   "metadata": {},
   "source": [
    "# Coding Temple's Data Analytics Program\n",
    "---\n",
    "## Python for DA: Weekend Project\n",
    "\n",
    "For this weekend project, you will be connecting to the [Disney API](https://disneyapi.dev/) to create an ETL pipeline. Your project should contain:\n",
    "\n",
    "- etl_pipeline.py\n",
    "    - Loads in data from the API object for all characters\n",
    "    - Stores required fields from the API to a DataFrame\n",
    "        - name\n",
    "        - all movies/shows the character appeared in\n",
    "        - any allies\n",
    "        - any enemies\n",
    "        - any park attractions\n",
    "    - Cleans the data\n",
    "    - Performs any transformations/feature engineering you wish to complete\n",
    "    - Stores the data in an ElephantSQL server\n",
    "    - Stores the data in a .csv file\n",
    "\n",
    "- notebook.ipynb\n",
    "    - Contains all cells you used to test your code before loading it into the pipeline\n",
    "    - Loads in the data from your .csv file\n",
    "    - Conduct EDA through data\n",
    "    - Conduct an analysis on your dataset!"
   ]
  },
  {
   "cell_type": "code",
   "execution_count": null,
   "metadata": {},
   "outputs": [],
   "source": [
    "import seaborn as sns, pandas as pd, requests, matplotlib.pyplot as plt, plotly.express as px\n",
    "\n"
   ]
  },
  {
   "cell_type": "code",
   "execution_count": 57,
   "metadata": {},
   "outputs": [
    {
     "data": {
      "text/plain": [
       "[{'_id': 112,\n",
       "  'films': ['Hercules (film)'],\n",
       "  'shortFilms': [],\n",
       "  'tvShows': ['Hercules (TV series)'],\n",
       "  'videoGames': ['Kingdom Hearts III'],\n",
       "  'parkAttractions': [],\n",
       "  'allies': [],\n",
       "  'enemies': [],\n",
       "  'sourceUrl': 'https://disney.fandom.com/wiki/Achilles_(Hercules)',\n",
       "  'name': 'Achilles',\n",
       "  'imageUrl': 'https://static.wikia.nocookie.net/disney/images/d/d3/Vlcsnap-2015-05-06-23h04m15s601.png',\n",
       "  'createdAt': '2021-04-12T01:31:30.547Z',\n",
       "  'updatedAt': '2021-12-20T20:39:18.033Z',\n",
       "  'url': 'https://api.disneyapi.dev/characters/112',\n",
       "  '__v': 0},\n",
       " {'_id': 18,\n",
       "  'films': ['The Fox and the Hound', 'The Fox and the Hound 2'],\n",
       "  'shortFilms': [],\n",
       "  'tvShows': [],\n",
       "  'videoGames': [],\n",
       "  'parkAttractions': [],\n",
       "  'allies': [],\n",
       "  'enemies': [],\n",
       "  'sourceUrl': 'https://disney.fandom.com/wiki/Abigail_the_Cow',\n",
       "  'name': 'Abigail the Cow',\n",
       "  'imageUrl': 'https://static.wikia.nocookie.net/disney/images/0/05/Fox-disneyscreencaps_com-901.jpg',\n",
       "  'createdAt': '2021-04-12T01:26:03.413Z',\n",
       "  'updatedAt': '2021-12-20T20:39:18.032Z',\n",
       "  'url': 'https://api.disneyapi.dev/characters/18',\n",
       "  '__v': 0},\n",
       " {'_id': 16,\n",
       "  'films': ['Cheetah'],\n",
       "  'shortFilms': [],\n",
       "  'tvShows': [],\n",
       "  'videoGames': [],\n",
       "  'parkAttractions': [],\n",
       "  'allies': [],\n",
       "  'enemies': [],\n",
       "  'sourceUrl': 'https://disney.fandom.com/wiki/Abdullah',\n",
       "  'name': 'Abdullah',\n",
       "  'imageUrl': 'https://static.wikia.nocookie.net/disney/images/c/cb/1087603-44532-clp-950.jpg',\n",
       "  'createdAt': '2021-04-12T01:26:02.377Z',\n",
       "  'updatedAt': '2021-12-20T20:39:18.032Z',\n",
       "  'url': 'https://api.disneyapi.dev/characters/16',\n",
       "  '__v': 0},\n",
       " {'_id': 45,\n",
       "  'films': ['Mary Poppins (film)', 'Mary Poppins Returns'],\n",
       "  'shortFilms': [],\n",
       "  'tvShows': [],\n",
       "  'videoGames': [],\n",
       "  'parkAttractions': [],\n",
       "  'allies': [],\n",
       "  'enemies': [],\n",
       "  'sourceUrl': 'https://disney.fandom.com/wiki/Admiral_Boom_and_Mr._Binnacle',\n",
       "  'name': 'Admiral Boom and Mr. Binnacle',\n",
       "  'imageUrl': 'https://static.wikia.nocookie.net/disney/images/b/be/Marypoppins-disneyscreencaps_com-1086.jpg',\n",
       "  'createdAt': '2021-04-12T01:26:21.560Z',\n",
       "  'updatedAt': '2021-12-20T20:39:18.033Z',\n",
       "  'url': 'https://api.disneyapi.dev/characters/45',\n",
       "  '__v': 0},\n",
       " {'_id': 7,\n",
       "  'films': [],\n",
       "  'shortFilms': [],\n",
       "  'tvShows': ['Gravity Falls'],\n",
       "  'videoGames': [],\n",
       "  'parkAttractions': [],\n",
       "  'allies': [],\n",
       "  'enemies': [],\n",
       "  'sourceUrl': 'https://disney.fandom.com/wiki/.GIFfany',\n",
       "  'name': '.GIFfany',\n",
       "  'imageUrl': 'https://static.wikia.nocookie.net/disney/images/5/51/Giffany.png',\n",
       "  'createdAt': '2021-04-12T01:25:10.354Z',\n",
       "  'updatedAt': '2021-12-20T20:39:18.032Z',\n",
       "  'url': 'https://api.disneyapi.dev/characters/7',\n",
       "  '__v': 0},\n",
       " {'_id': 12,\n",
       "  'films': [],\n",
       "  'shortFilms': [],\n",
       "  'tvShows': ['Pickle and Peanut'],\n",
       "  'videoGames': [],\n",
       "  'parkAttractions': [],\n",
       "  'allies': [],\n",
       "  'enemies': [],\n",
       "  'sourceUrl': 'https://disney.fandom.com/wiki/90%27s_Adventure_Bear_(character)',\n",
       "  'name': \"90's Adventure Bear\",\n",
       "  'imageUrl': 'https://static.wikia.nocookie.net/disney/images/3/3f/90%27s_Adventure_Bear_profile.png',\n",
       "  'createdAt': '2021-04-12T01:26:00.335Z',\n",
       "  'updatedAt': '2021-12-20T20:39:18.032Z',\n",
       "  'url': 'https://api.disneyapi.dev/characters/12',\n",
       "  '__v': 0},\n",
       " {'_id': 36,\n",
       "  'films': [],\n",
       "  'shortFilms': [],\n",
       "  'tvShows': ['K.C. Undercover'],\n",
       "  'videoGames': [],\n",
       "  'parkAttractions': [],\n",
       "  'allies': [],\n",
       "  'enemies': [],\n",
       "  'sourceUrl': 'https://disney.fandom.com/wiki/Candace_Adams',\n",
       "  'name': 'Candace Adams',\n",
       "  'imageUrl': 'https://static.wikia.nocookie.net/disney/images/8/8b/Enemy_of_the_State_promo_3.jpg',\n",
       "  'createdAt': '2021-04-12T01:26:16.062Z',\n",
       "  'updatedAt': '2021-12-20T20:39:18.033Z',\n",
       "  'url': 'https://api.disneyapi.dev/characters/36',\n",
       "  '__v': 0},\n",
       " {'_id': 139,\n",
       "  'films': ['The Lion King', 'The Lion King (2019 film)'],\n",
       "  'shortFilms': [],\n",
       "  'tvShows': [],\n",
       "  'videoGames': [],\n",
       "  'parkAttractions': [],\n",
       "  'allies': [],\n",
       "  'enemies': [],\n",
       "  'sourceUrl': 'https://disney.fandom.com/wiki/Ahadi',\n",
       "  'name': 'Ahadi',\n",
       "  'imageUrl': 'https://static.wikia.nocookie.net/disney/images/b/b3/Ahadihead.png',\n",
       "  'createdAt': '2021-04-12T01:31:47.129Z',\n",
       "  'updatedAt': '2021-12-20T20:39:18.877Z',\n",
       "  'url': 'https://api.disneyapi.dev/characters/139',\n",
       "  '__v': 0},\n",
       " {'_id': 152,\n",
       "  'films': [],\n",
       "  'shortFilms': [],\n",
       "  'tvShows': ['Aladdin (TV series)'],\n",
       "  'videoGames': [],\n",
       "  'parkAttractions': [],\n",
       "  'allies': [],\n",
       "  'enemies': [],\n",
       "  'sourceUrl': 'https://disney.fandom.com/wiki/Al_Muddy_Sultan',\n",
       "  'name': 'Al Muddy Sultan',\n",
       "  'imageUrl': 'https://static.wikia.nocookie.net/disney/images/e/e0/Almuddyking.jpg',\n",
       "  'createdAt': '2021-04-12T01:31:55.281Z',\n",
       "  'updatedAt': '2021-12-20T20:39:18.877Z',\n",
       "  'url': 'https://api.disneyapi.dev/characters/152',\n",
       "  '__v': 0},\n",
       " {'_id': 181,\n",
       "  'films': [],\n",
       "  'shortFilms': [],\n",
       "  'tvShows': [\"Chip 'n Dale Rescue Rangers\"],\n",
       "  'videoGames': [],\n",
       "  'parkAttractions': [],\n",
       "  'allies': [],\n",
       "  'enemies': [],\n",
       "  'sourceUrl': 'https://disney.fandom.com/wiki/Irwina_Allen',\n",
       "  'name': 'Irwina Allen',\n",
       "  'imageUrl': 'https://static.wikia.nocookie.net/disney/images/4/48/Chip_%27n_Dale_Rescue_Rangers_109_Risky_Beesness_arsenaloyal_-_YouTube12.jpg',\n",
       "  'createdAt': '2021-04-12T01:32:15.300Z',\n",
       "  'updatedAt': '2021-12-20T20:39:18.877Z',\n",
       "  'url': 'https://api.disneyapi.dev/characters/181',\n",
       "  '__v': 0},\n",
       " {'_id': 204,\n",
       "  'films': ['The Robber Kitten', \"Mickey's Polo Team\"],\n",
       "  'shortFilms': [],\n",
       "  'tvShows': [],\n",
       "  'videoGames': [],\n",
       "  'parkAttractions': [],\n",
       "  'allies': [],\n",
       "  'enemies': [],\n",
       "  'sourceUrl': 'https://disney.fandom.com/wiki/Ambrose',\n",
       "  'name': 'Ambrose',\n",
       "  'imageUrl': 'https://static.wikia.nocookie.net/disney/images/d/d3/Ambrose.jpg',\n",
       "  'createdAt': '2021-04-12T01:32:29.083Z',\n",
       "  'updatedAt': '2021-12-20T20:39:19.408Z',\n",
       "  'url': 'https://api.disneyapi.dev/characters/204',\n",
       "  '__v': 0},\n",
       " {'_id': 215,\n",
       "  'films': ['Ben and Me'],\n",
       "  'shortFilms': [],\n",
       "  'tvShows': [],\n",
       "  'videoGames': [],\n",
       "  'parkAttractions': [],\n",
       "  'allies': [],\n",
       "  'enemies': [],\n",
       "  'sourceUrl': 'https://disney.fandom.com/wiki/Amos',\n",
       "  'name': 'Amos',\n",
       "  'imageUrl': 'https://static.wikia.nocookie.net/disney/images/8/83/Tve8132-19531110-2244.jpg',\n",
       "  'createdAt': '2021-04-12T01:32:35.677Z',\n",
       "  'updatedAt': '2021-12-20T20:39:19.408Z',\n",
       "  'url': 'https://api.disneyapi.dev/characters/215',\n",
       "  '__v': 0},\n",
       " {'_id': 293,\n",
       "  'films': [],\n",
       "  'shortFilms': [],\n",
       "  'tvShows': [],\n",
       "  'videoGames': [],\n",
       "  'parkAttractions': [],\n",
       "  'allies': [],\n",
       "  'enemies': [],\n",
       "  'sourceUrl': 'https://disney.fandom.com/wiki/Arabella',\n",
       "  'name': 'Arabella',\n",
       "  'createdAt': '2021-04-12T01:33:24.447Z',\n",
       "  'updatedAt': '2021-04-12T01:33:24.447Z',\n",
       "  'url': 'https://api.disneyapi.dev/characters/293',\n",
       "  '__v': 0},\n",
       " {'_id': 295,\n",
       "  'films': [],\n",
       "  'shortFilms': [],\n",
       "  'tvShows': [],\n",
       "  'videoGames': [],\n",
       "  'parkAttractions': ['Tortuga Tavern'],\n",
       "  'allies': [],\n",
       "  'enemies': [],\n",
       "  'sourceUrl': 'https://disney.fandom.com/wiki/Arabella_Smith',\n",
       "  'name': 'Arabella Smith',\n",
       "  'imageUrl': 'https://static.wikia.nocookie.net/disney/images/d/da/Bella_sign.webp',\n",
       "  'createdAt': '2021-04-12T01:33:25.599Z',\n",
       "  'updatedAt': '2021-12-20T20:39:20.361Z',\n",
       "  'url': 'https://api.disneyapi.dev/characters/295',\n",
       "  '__v': 0},\n",
       " {'_id': 310,\n",
       "  'films': [],\n",
       "  'shortFilms': [],\n",
       "  'tvShows': ['DuckTales'],\n",
       "  'videoGames': [],\n",
       "  'parkAttractions': [],\n",
       "  'allies': [],\n",
       "  'enemies': [],\n",
       "  'sourceUrl': 'https://disney.fandom.com/wiki/Queen_Ariel',\n",
       "  'name': 'Queen Ariel',\n",
       "  'imageUrl': 'https://static.wikia.nocookie.net/disney/images/e/e8/Char_49883.jpg',\n",
       "  'createdAt': '2021-04-12T01:33:35.898Z',\n",
       "  'updatedAt': '2021-12-20T20:39:20.362Z',\n",
       "  'url': 'https://api.disneyapi.dev/characters/310',\n",
       "  '__v': 0},\n",
       " {'_id': 327,\n",
       "  'films': [],\n",
       "  'shortFilms': [],\n",
       "  'tvShows': ['Jungle Cubs'],\n",
       "  'videoGames': [],\n",
       "  'parkAttractions': [],\n",
       "  'allies': [],\n",
       "  'enemies': [],\n",
       "  'sourceUrl': 'https://disney.fandom.com/wiki/Arthur_and_Cecil',\n",
       "  'name': 'Arthur and Cecil',\n",
       "  'imageUrl': 'https://static.wikia.nocookie.net/disney/images/e/e9/Arthur_%26_Cecil.png',\n",
       "  'createdAt': '2021-04-12T01:33:46.377Z',\n",
       "  'updatedAt': '2021-12-20T20:39:20.362Z',\n",
       "  'url': 'https://api.disneyapi.dev/characters/327',\n",
       "  '__v': 0},\n",
       " {'_id': 336,\n",
       "  'films': [],\n",
       "  'shortFilms': [],\n",
       "  'tvShows': ['Fillmore!'],\n",
       "  'videoGames': [],\n",
       "  'parkAttractions': [],\n",
       "  'allies': [],\n",
       "  'enemies': [],\n",
       "  'sourceUrl': 'https://disney.fandom.com/wiki/Fiona_Ashbury',\n",
       "  'name': 'Fiona Ashbury',\n",
       "  'imageUrl': 'https://static.wikia.nocookie.net/disney/images/e/ed/Fiona_Ashbury.jpg',\n",
       "  'createdAt': '2021-04-12T01:33:51.824Z',\n",
       "  'updatedAt': '2021-12-20T20:39:20.363Z',\n",
       "  'url': 'https://api.disneyapi.dev/characters/336',\n",
       "  '__v': 0},\n",
       " {'_id': 337,\n",
       "  'films': ['Homeward Bound II: Lost in San Francisco'],\n",
       "  'shortFilms': [],\n",
       "  'tvShows': [],\n",
       "  'videoGames': [],\n",
       "  'parkAttractions': [],\n",
       "  'allies': [],\n",
       "  'enemies': [],\n",
       "  'sourceUrl': 'https://disney.fandom.com/wiki/Ashcan_and_Pete',\n",
       "  'name': 'Ashcan and Pete',\n",
       "  'imageUrl': 'https://static.wikia.nocookie.net/disney/images/8/88/AshcanPete.PNG',\n",
       "  'createdAt': '2021-04-12T01:33:52.329Z',\n",
       "  'updatedAt': '2021-12-20T20:39:20.363Z',\n",
       "  'url': 'https://api.disneyapi.dev/characters/337',\n",
       "  '__v': 0},\n",
       " {'_id': 342,\n",
       "  'films': ['Bedtime Stories'],\n",
       "  'shortFilms': [],\n",
       "  'tvShows': [],\n",
       "  'videoGames': [],\n",
       "  'parkAttractions': [],\n",
       "  'allies': [],\n",
       "  'enemies': [],\n",
       "  'sourceUrl': 'https://disney.fandom.com/wiki/Aspen',\n",
       "  'name': 'Aspen',\n",
       "  'imageUrl': 'https://static.wikia.nocookie.net/disney/images/8/8b/Bedtime_stories_aspen.jpg',\n",
       "  'createdAt': '2021-04-12T01:33:56.674Z',\n",
       "  'updatedAt': '2021-12-20T20:39:20.872Z',\n",
       "  'url': 'https://api.disneyapi.dev/characters/342',\n",
       "  '__v': 0},\n",
       " {'_id': 347,\n",
       "  'films': [],\n",
       "  'shortFilms': [],\n",
       "  'tvShows': ['The Lion Guard'],\n",
       "  'videoGames': [],\n",
       "  'parkAttractions': [],\n",
       "  'allies': [],\n",
       "  'enemies': [],\n",
       "  'sourceUrl': 'https://disney.fandom.com/wiki/Astuto',\n",
       "  'name': 'Astuto',\n",
       "  'imageUrl': 'https://static.wikia.nocookie.net/disney/images/3/3e/Lion_Guard_S03E014_-_Astuto_%28fox%29_Profile.jpg',\n",
       "  'createdAt': '2021-04-12T01:33:59.743Z',\n",
       "  'updatedAt': '2021-12-20T20:39:20.872Z',\n",
       "  'url': 'https://api.disneyapi.dev/characters/347',\n",
       "  '__v': 0},\n",
       " {'_id': 350,\n",
       "  'films': ['Tomorrowland (film)'],\n",
       "  'shortFilms': [],\n",
       "  'tvShows': [],\n",
       "  'videoGames': [],\n",
       "  'parkAttractions': [],\n",
       "  'allies': [],\n",
       "  'enemies': [],\n",
       "  'sourceUrl': 'https://disney.fandom.com/wiki/Athena_(Tomorrowland)',\n",
       "  'name': 'Athena',\n",
       "  'imageUrl': 'https://static.wikia.nocookie.net/disney/images/d/db/Athena_Tomorrowland.jpg',\n",
       "  'createdAt': '2021-04-12T01:34:01.400Z',\n",
       "  'updatedAt': '2021-12-20T20:39:20.872Z',\n",
       "  'url': 'https://api.disneyapi.dev/characters/350',\n",
       "  '__v': 0},\n",
       " {'_id': 364,\n",
       "  'films': ['Return to Oz'],\n",
       "  'shortFilms': [],\n",
       "  'tvShows': ['Once Upon a Time'],\n",
       "  'videoGames': [],\n",
       "  'parkAttractions': [],\n",
       "  'allies': [],\n",
       "  'enemies': [],\n",
       "  'sourceUrl': 'https://disney.fandom.com/wiki/Aunt_Em',\n",
       "  'name': 'Aunt Em',\n",
       "  'imageUrl': 'https://static.wikia.nocookie.net/disney/images/5/5d/Em4.jpg',\n",
       "  'createdAt': '2021-04-12T01:34:11.118Z',\n",
       "  'updatedAt': '2021-12-20T20:39:20.873Z',\n",
       "  'url': 'https://api.disneyapi.dev/characters/364',\n",
       "  '__v': 0},\n",
       " {'_id': 380,\n",
       "  'films': [],\n",
       "  'shortFilms': [],\n",
       "  'tvShows': ['Kim Possible'],\n",
       "  'videoGames': [],\n",
       "  'parkAttractions': [],\n",
       "  'allies': [],\n",
       "  'enemies': [],\n",
       "  'sourceUrl': 'https://disney.fandom.com/wiki/Aviarius',\n",
       "  'name': 'Aviarius',\n",
       "  'imageUrl': 'https://static.wikia.nocookie.net/disney/images/9/99/Aviarius.jpg',\n",
       "  'createdAt': '2021-04-12T01:34:21.583Z',\n",
       "  'updatedAt': '2021-12-20T20:39:20.873Z',\n",
       "  'url': 'https://api.disneyapi.dev/characters/380',\n",
       "  '__v': 0},\n",
       " {'_id': 384,\n",
       "  'films': [],\n",
       "  'shortFilms': [],\n",
       "  'tvShows': [],\n",
       "  'videoGames': [],\n",
       "  'parkAttractions': [],\n",
       "  'allies': [],\n",
       "  'enemies': [],\n",
       "  'sourceUrl': 'https://disney.fandom.com/wiki/Prince_Axel',\n",
       "  'name': 'Prince Axel',\n",
       "  'imageUrl': 'https://static.wikia.nocookie.net/disney/images/8/81/Prince_Axel.png',\n",
       "  'createdAt': '2021-04-12T01:34:23.830Z',\n",
       "  'updatedAt': '2021-12-20T20:39:20.873Z',\n",
       "  'url': 'https://api.disneyapi.dev/characters/384',\n",
       "  '__v': 0},\n",
       " {'_id': 404,\n",
       "  'films': [],\n",
       "  'shortFilms': [],\n",
       "  'tvShows': ['PB&J Otter'],\n",
       "  'videoGames': [],\n",
       "  'parkAttractions': [],\n",
       "  'allies': [],\n",
       "  'enemies': [],\n",
       "  'sourceUrl': 'https://disney.fandom.com/wiki/Baby_Butter_Otter',\n",
       "  'name': 'Butter Otter',\n",
       "  'imageUrl': 'https://static.wikia.nocookie.net/disney/images/1/15/Peanut_butter_and_jelly_otter_4.png',\n",
       "  'createdAt': '2021-04-12T01:34:35.674Z',\n",
       "  'updatedAt': '2021-12-20T20:39:21.335Z',\n",
       "  'url': 'https://api.disneyapi.dev/characters/404',\n",
       "  '__v': 0},\n",
       " {'_id': 410,\n",
       "  'films': [],\n",
       "  'shortFilms': [],\n",
       "  'tvShows': ['Timon & Pumbaa'],\n",
       "  'videoGames': [],\n",
       "  'parkAttractions': [],\n",
       "  'allies': [],\n",
       "  'enemies': [],\n",
       "  'sourceUrl': 'https://disney.fandom.com/wiki/Baby_Panda_(Timon_%26_Pumbaa)',\n",
       "  'name': 'Baby Panda',\n",
       "  'imageUrl': 'https://static.wikia.nocookie.net/disney/images/d/dd/X240-pex.jpg',\n",
       "  'createdAt': '2021-04-12T01:34:38.957Z',\n",
       "  'updatedAt': '2021-12-20T20:39:21.335Z',\n",
       "  'url': 'https://api.disneyapi.dev/characters/410',\n",
       "  '__v': 0},\n",
       " {'_id': 440,\n",
       "  'films': [],\n",
       "  'shortFilms': [],\n",
       "  'tvShows': ['Mackenzie Falls'],\n",
       "  'videoGames': [],\n",
       "  'parkAttractions': [],\n",
       "  'allies': [],\n",
       "  'enemies': [],\n",
       "  'sourceUrl': 'https://disney.fandom.com/wiki/Marta_Balatico',\n",
       "  'name': 'Marta Balatico',\n",
       "  'imageUrl': 'https://static.wikia.nocookie.net/disney/images/d/d0/27_marta.jpg',\n",
       "  'createdAt': '2021-04-12T01:34:56.629Z',\n",
       "  'updatedAt': '2021-12-20T20:39:21.786Z',\n",
       "  'url': 'https://api.disneyapi.dev/characters/440',\n",
       "  '__v': 0},\n",
       " {'_id': 442,\n",
       "  'films': [],\n",
       "  'shortFilms': [],\n",
       "  'tvShows': ['Fish Hooks'],\n",
       "  'videoGames': [],\n",
       "  'parkAttractions': [],\n",
       "  'allies': [],\n",
       "  'enemies': [],\n",
       "  'sourceUrl': 'https://disney.fandom.com/wiki/Mr._Baldwin',\n",
       "  'name': 'Mr. Baldwin',\n",
       "  'imageUrl': 'https://static.wikia.nocookie.net/disney/images/2/2c/Baldwin_picture.png',\n",
       "  'createdAt': '2021-04-12T01:34:57.806Z',\n",
       "  'updatedAt': '2021-12-20T20:39:21.786Z',\n",
       "  'url': 'https://api.disneyapi.dev/characters/442',\n",
       "  '__v': 0},\n",
       " {'_id': 450,\n",
       "  'films': ['The Jungle Book',\n",
       "   'The Jungle Book 2',\n",
       "   \"Rudyard Kipling's The Jungle Book\",\n",
       "   \"The Jungle Book: Mowgli's Story\",\n",
       "   \"Mickey's Magical Christmas: Snowed in at the House of Mouse\",\n",
       "   \"Mickey's House of Villains\",\n",
       "   'The Lion King 1½',\n",
       "   'Meet the Robinsons',\n",
       "   'The Jungle Book (2016 film)'],\n",
       "  'shortFilms': [],\n",
       "  'tvShows': ['The Mouse Factory',\n",
       "   'TaleSpin',\n",
       "   'Raw Toonage',\n",
       "   'Aladdin (TV series)',\n",
       "   'Jungle Cubs',\n",
       "   'House of Mouse',\n",
       "   'DuckTales (2017 series)'],\n",
       "  'videoGames': ['TaleSpin (NES video game)',\n",
       "   'TaleSpin (Sega Genesis Video Game)',\n",
       "   'The Jungle Book (video game)',\n",
       "   'The Jungle Book Groove Party',\n",
       "   'Disney Universe',\n",
       "   'Kinect Disneyland Adventures',\n",
       "   'Disney Infinity (series)',\n",
       "   'Disney Crossy Road',\n",
       "   'Disney Emoji Blitz',\n",
       "   'Disney Magic Kingdoms',\n",
       "   'Kingdom Hearts Union χ',\n",
       "   'Disney Heroes: Battle Mode',\n",
       "   \"Disney Sorcerer's Arena\",\n",
       "   'Just Dance: Disney Party'],\n",
       "  'parkAttractions': ['The Disney Afternoon Live!: Plane Crazy',\n",
       "   \"Mickey's Magical TV World\",\n",
       "   'Fantasmic!',\n",
       "   \"It's a Small World\",\n",
       "   'Mickey Mouse Revue',\n",
       "   'Celebrate a Dreams Come True Parade',\n",
       "   \"Mickey's Jammin' Jungle Parade\",\n",
       "   \"Mickey's Jingle Jungle Parade\",\n",
       "   'Disney Stars and Motorcars Parade',\n",
       "   'Parade of the Stars',\n",
       "   'World of Color',\n",
       "   'Mickey and the Wondrous Book',\n",
       "   \"La Forêt de l'Enchantement: Une aventure musicale Disney\",\n",
       "   'Happily Ever After (fireworks show)'],\n",
       "  'allies': [],\n",
       "  'enemies': [],\n",
       "  'sourceUrl': 'https://disney.fandom.com/wiki/Baloo',\n",
       "  'name': 'Baloo',\n",
       "  'imageUrl': 'https://static.wikia.nocookie.net/disney/images/3/31/Profile_-_Baloo.jpeg',\n",
       "  'createdAt': '2021-04-12T01:35:02.338Z',\n",
       "  'updatedAt': '2021-12-20T20:39:21.786Z',\n",
       "  'url': 'https://api.disneyapi.dev/characters/450',\n",
       "  '__v': 0},\n",
       " {'_id': 469,\n",
       "  'films': ['Mary Poppins (film)', 'Mary Poppins Returns'],\n",
       "  'shortFilms': [],\n",
       "  'tvShows': [],\n",
       "  'videoGames': [],\n",
       "  'parkAttractions': [],\n",
       "  'allies': [],\n",
       "  'enemies': [],\n",
       "  'sourceUrl': 'https://disney.fandom.com/wiki/Michael_Banks',\n",
       "  'name': 'Michael Banks',\n",
       "  'imageUrl': 'https://static.wikia.nocookie.net/disney/images/4/40/Michael_Banks.gif',\n",
       "  'createdAt': '2021-04-12T01:35:13.656Z',\n",
       "  'updatedAt': '2021-12-20T20:39:21.786Z',\n",
       "  'url': 'https://api.disneyapi.dev/characters/469',\n",
       "  '__v': 0},\n",
       " {'_id': 474,\n",
       "  'films': [],\n",
       "  'shortFilms': [],\n",
       "  'tvShows': [\"Chip 'n Dale Rescue Rangers\"],\n",
       "  'videoGames': [],\n",
       "  'parkAttractions': [],\n",
       "  'allies': [],\n",
       "  'enemies': [],\n",
       "  'sourceUrl': 'https://disney.fandom.com/wiki/Banshee_(Chip_%27n_Dale_Rescue_Rangers)',\n",
       "  'name': 'Banshee',\n",
       "  'imageUrl': 'https://static.wikia.nocookie.net/disney/images/5/54/Chip_%27n_Dale_Rescue_Rangers_226_The_Last_Leprechaun_arsenaloyal_-_YouTube12.jpg',\n",
       "  'createdAt': '2021-04-12T01:35:16.266Z',\n",
       "  'updatedAt': '2021-12-20T20:39:21.786Z',\n",
       "  'url': 'https://api.disneyapi.dev/characters/474',\n",
       "  '__v': 0},\n",
       " {'_id': 490,\n",
       "  'films': [],\n",
       "  'shortFilms': [],\n",
       "  'tvShows': ['Teamo Supremo'],\n",
       "  'videoGames': [],\n",
       "  'parkAttractions': [],\n",
       "  'allies': [],\n",
       "  'enemies': [],\n",
       "  'sourceUrl': 'https://disney.fandom.com/wiki/Baron_Blitz',\n",
       "  'name': 'Baron Blitz',\n",
       "  'imageUrl': 'https://static.wikia.nocookie.net/disney/images/4/4b/Baron_Blitz.jpg',\n",
       "  'createdAt': '2021-04-12T01:35:26.026Z',\n",
       "  'updatedAt': '2021-12-20T20:39:22.406Z',\n",
       "  'url': 'https://api.disneyapi.dev/characters/490',\n",
       "  '__v': 0},\n",
       " {'_id': 500,\n",
       "  'films': ['The Sword in the Stone'],\n",
       "  'shortFilms': [],\n",
       "  'tvShows': [],\n",
       "  'videoGames': [],\n",
       "  'parkAttractions': [],\n",
       "  'allies': [],\n",
       "  'enemies': [],\n",
       "  'sourceUrl': 'https://disney.fandom.com/wiki/Sir_Bart',\n",
       "  'name': 'Sir Bart',\n",
       "  'imageUrl': 'https://static.wikia.nocookie.net/disney/images/6/6d/Sword-in-stone-disneyscreencaps.com-8698.jpg',\n",
       "  'createdAt': '2021-04-12T01:35:31.366Z',\n",
       "  'updatedAt': '2021-12-20T20:39:22.406Z',\n",
       "  'url': 'https://api.disneyapi.dev/characters/500',\n",
       "  '__v': 0},\n",
       " {'_id': 529,\n",
       "  'films': [],\n",
       "  'shortFilms': [],\n",
       "  'tvShows': ['Fillmore!'],\n",
       "  'videoGames': [],\n",
       "  'parkAttractions': [],\n",
       "  'allies': [],\n",
       "  'enemies': [],\n",
       "  'sourceUrl': 'https://disney.fandom.com/wiki/Bernice_Beachmont',\n",
       "  'name': 'Bernice Beachmont',\n",
       "  'imageUrl': 'https://static.wikia.nocookie.net/disney/images/e/e1/Bernice_Beachmont.jpg',\n",
       "  'createdAt': '2021-04-12T01:35:48.740Z',\n",
       "  'updatedAt': '2021-12-20T20:39:22.407Z',\n",
       "  'url': 'https://api.disneyapi.dev/characters/529',\n",
       "  '__v': 0},\n",
       " {'_id': 543,\n",
       "  'films': [],\n",
       "  'shortFilms': [],\n",
       "  'tvShows': ['Jake and the Never Land Pirates'],\n",
       "  'videoGames': [],\n",
       "  'parkAttractions': [],\n",
       "  'allies': [],\n",
       "  'enemies': [],\n",
       "  'sourceUrl': 'https://disney.fandom.com/wiki/Beardini_the_Pirate_Magician',\n",
       "  'name': 'Beardini the Pirate Magician',\n",
       "  'imageUrl': 'https://static.wikia.nocookie.net/disney/images/2/27/Beardini01.jpg',\n",
       "  'createdAt': '2021-04-12T01:35:57.020Z',\n",
       "  'updatedAt': '2021-12-20T20:39:23.086Z',\n",
       "  'url': 'https://api.disneyapi.dev/characters/543',\n",
       "  '__v': 0},\n",
       " {'_id': 566,\n",
       "  'films': ['The Haunted Mansion (film)'],\n",
       "  'shortFilms': [],\n",
       "  'tvShows': [],\n",
       "  'videoGames': ['The Haunted Mansion (video game)',\n",
       "   'Kinect Disneyland Adventures',\n",
       "   'Disney Crossy Road'],\n",
       "  'parkAttractions': ['The Haunted Mansion'],\n",
       "  'allies': [],\n",
       "  'enemies': [],\n",
       "  'sourceUrl': 'https://disney.fandom.com/wiki/Beheaded_Knight',\n",
       "  'name': 'Beheaded Knight',\n",
       "  'imageUrl': 'https://static.wikia.nocookie.net/disney/images/f/fb/Beheaded_Knight.png',\n",
       "  'createdAt': '2021-04-12T01:36:13.468Z',\n",
       "  'updatedAt': '2021-12-20T20:39:23.086Z',\n",
       "  'url': 'https://api.disneyapi.dev/characters/566',\n",
       "  '__v': 0},\n",
       " {'_id': 157,\n",
       "  'films': ['Freaky Friday (2003 film)'],\n",
       "  'shortFilms': [],\n",
       "  'tvShows': [],\n",
       "  'videoGames': [],\n",
       "  'parkAttractions': [],\n",
       "  'allies': [],\n",
       "  'enemies': [],\n",
       "  'sourceUrl': 'https://disney.fandom.com/wiki/Alan_Coleman',\n",
       "  'name': 'Alan Coleman',\n",
       "  'imageUrl': 'https://static.wikia.nocookie.net/disney/images/c/c0/Alan_Coleman.jpg',\n",
       "  'createdAt': '2021-04-12T01:31:58.659Z',\n",
       "  'updatedAt': '2021-12-20T20:39:18.877Z',\n",
       "  'url': 'https://api.disneyapi.dev/characters/157',\n",
       "  '__v': 0},\n",
       " {'_id': 189,\n",
       "  'films': [],\n",
       "  'shortFilms': [],\n",
       "  'tvShows': ['Doc McStuffins'],\n",
       "  'videoGames': [],\n",
       "  'parkAttractions': [],\n",
       "  'allies': [],\n",
       "  'enemies': [],\n",
       "  'sourceUrl': 'https://disney.fandom.com/wiki/Alma',\n",
       "  'name': 'Alma',\n",
       "  'imageUrl': 'https://static.wikia.nocookie.net/disney/images/6/6b/SadAlma.png',\n",
       "  'createdAt': '2021-04-12T01:32:19.873Z',\n",
       "  'updatedAt': '2021-12-20T20:39:19.408Z',\n",
       "  'url': 'https://api.disneyapi.dev/characters/189',\n",
       "  '__v': 0},\n",
       " {'_id': 206,\n",
       "  'films': ['Treasure Planet'],\n",
       "  'shortFilms': [],\n",
       "  'tvShows': [],\n",
       "  'videoGames': ['Treasure Planet: Battle at Procyon',\n",
       "   \"Disney Sorcerer's Arena\",\n",
       "   'Disney Heroes: Battle Mode'],\n",
       "  'parkAttractions': [],\n",
       "  'allies': [],\n",
       "  'enemies': [],\n",
       "  'sourceUrl': 'https://disney.fandom.com/wiki/Captain_Amelia',\n",
       "  'name': 'Captain Amelia',\n",
       "  'imageUrl': 'https://static.wikia.nocookie.net/disney/images/0/0c/Profile_-_Captain_Amelia.png',\n",
       "  'createdAt': '2021-04-12T01:32:30.244Z',\n",
       "  'updatedAt': '2021-12-20T20:39:19.408Z',\n",
       "  'url': 'https://api.disneyapi.dev/characters/206',\n",
       "  '__v': 0},\n",
       " {'_id': 207,\n",
       "  'films': [],\n",
       "  'shortFilms': [],\n",
       "  'tvShows': [],\n",
       "  'videoGames': [],\n",
       "  'parkAttractions': [],\n",
       "  'allies': [],\n",
       "  'enemies': [],\n",
       "  'sourceUrl': 'https://disney.fandom.com/wiki/Amelia_Duckworth',\n",
       "  'name': 'Amelia Duckworth',\n",
       "  'createdAt': '2021-04-12T01:32:30.828Z',\n",
       "  'updatedAt': '2021-04-12T01:32:30.828Z',\n",
       "  'url': 'https://api.disneyapi.dev/characters/207',\n",
       "  '__v': 0},\n",
       " {'_id': 223,\n",
       "  'films': ['The Cat from Outer Space'],\n",
       "  'shortFilms': [],\n",
       "  'tvShows': [],\n",
       "  'videoGames': [],\n",
       "  'parkAttractions': [],\n",
       "  'allies': [],\n",
       "  'enemies': [],\n",
       "  'sourceUrl': 'https://disney.fandom.com/wiki/Captain_Anderson',\n",
       "  'name': 'Captain Anderson',\n",
       "  'imageUrl': 'https://static.wikia.nocookie.net/disney/images/b/bc/CaptainAndersonCatFromSpace.jpg',\n",
       "  'createdAt': '2021-04-12T01:32:40.186Z',\n",
       "  'updatedAt': '2021-12-20T20:39:19.408Z',\n",
       "  'url': 'https://api.disneyapi.dev/characters/223',\n",
       "  '__v': 0},\n",
       " {'_id': 241,\n",
       "  'films': [],\n",
       "  'shortFilms': [],\n",
       "  'tvShows': [],\n",
       "  'videoGames': [],\n",
       "  'parkAttractions': [],\n",
       "  'allies': [],\n",
       "  'enemies': [],\n",
       "  'sourceUrl': 'https://disney.fandom.com/wiki/Erica_Ange',\n",
       "  'name': 'Erica Ange',\n",
       "  'imageUrl': 'https://static.wikia.nocookie.net/disney/images/8/88/Erica_pic.png',\n",
       "  'createdAt': '2021-04-12T01:32:50.879Z',\n",
       "  'updatedAt': '2021-12-20T20:39:19.912Z',\n",
       "  'url': 'https://api.disneyapi.dev/characters/241',\n",
       "  '__v': 0},\n",
       " {'_id': 247,\n",
       "  'films': [],\n",
       "  'shortFilms': [],\n",
       "  'tvShows': ['Fish Hooks'],\n",
       "  'videoGames': [],\n",
       "  'parkAttractions': [],\n",
       "  'allies': [],\n",
       "  'enemies': [],\n",
       "  'sourceUrl': 'https://disney.fandom.com/wiki/Angela_Fishberger',\n",
       "  'name': 'Angela',\n",
       "  'imageUrl': 'https://static.wikia.nocookie.net/disney/images/c/cb/Angela_Fishberger.jpg',\n",
       "  'createdAt': '2021-04-12T01:32:54.541Z',\n",
       "  'updatedAt': '2021-12-20T20:39:19.912Z',\n",
       "  'url': 'https://api.disneyapi.dev/characters/247',\n",
       "  '__v': 0},\n",
       " {'_id': 268,\n",
       "  'films': ['The Happiest Millionaire'],\n",
       "  'shortFilms': [],\n",
       "  'tvShows': [],\n",
       "  'videoGames': [],\n",
       "  'parkAttractions': [],\n",
       "  'allies': [],\n",
       "  'enemies': [],\n",
       "  'sourceUrl': 'https://disney.fandom.com/wiki/Anthony_Biddle',\n",
       "  'name': 'Anthony Biddle',\n",
       "  'imageUrl': 'https://static.wikia.nocookie.net/disney/images/6/64/Images_%2812%29-0.jpg',\n",
       "  'createdAt': '2021-04-12T01:33:08.833Z',\n",
       "  'updatedAt': '2021-12-20T20:39:19.913Z',\n",
       "  'url': 'https://api.disneyapi.dev/characters/268',\n",
       "  '__v': 0},\n",
       " {'_id': 278,\n",
       "  'films': ['Savage Sam'],\n",
       "  'shortFilms': [],\n",
       "  'tvShows': [],\n",
       "  'videoGames': [],\n",
       "  'parkAttractions': [],\n",
       "  'allies': [],\n",
       "  'enemies': [],\n",
       "  'sourceUrl': 'https://disney.fandom.com/wiki/Apaches',\n",
       "  'name': 'Apaches',\n",
       "  'imageUrl': 'https://static.wikia.nocookie.net/disney/images/0/0e/Old-yeller-2-movie-collection-20060206040952451-000.jpg',\n",
       "  'createdAt': '2021-04-12T01:33:14.678Z',\n",
       "  'updatedAt': '2021-12-20T20:39:19.913Z',\n",
       "  'url': 'https://api.disneyapi.dev/characters/278',\n",
       "  '__v': 0},\n",
       " {'_id': 285,\n",
       "  'films': [],\n",
       "  'shortFilms': [],\n",
       "  'tvShows': ['Amphibia'],\n",
       "  'videoGames': [],\n",
       "  'parkAttractions': [],\n",
       "  'allies': [],\n",
       "  'enemies': [],\n",
       "  'sourceUrl': 'https://disney.fandom.com/wiki/Apothecary_Gary',\n",
       "  'name': 'Apothecary Gary',\n",
       "  'imageUrl': 'https://static.wikia.nocookie.net/disney/images/a/aa/ApothecaryGary.png',\n",
       "  'createdAt': '2021-04-12T01:33:18.798Z',\n",
       "  'updatedAt': '2021-12-20T20:39:19.913Z',\n",
       "  'url': 'https://api.disneyapi.dev/characters/285',\n",
       "  '__v': 0},\n",
       " {'_id': 291,\n",
       "  'films': [],\n",
       "  'shortFilms': [],\n",
       "  'tvShows': [],\n",
       "  'videoGames': ['Kingdom Hearts: Birth by Sleep',\n",
       "   'Kingdom Hearts coded',\n",
       "   'Kingdom Hearts 3D: Dream Drop Distance',\n",
       "   'Kingdom Hearts HD II.8 Final Chapter Prologue',\n",
       "   'Kingdom Hearts III',\n",
       "   'Disney Emoji Blitz',\n",
       "   'Disney Tsum Tsum'],\n",
       "  'parkAttractions': [],\n",
       "  'allies': [],\n",
       "  'enemies': [],\n",
       "  'sourceUrl': 'https://disney.fandom.com/wiki/Aqua',\n",
       "  'name': 'Aqua',\n",
       "  'imageUrl': 'https://static.wikia.nocookie.net/disney/images/0/0a/Aqua_KHIII.png',\n",
       "  'createdAt': '2021-04-12T01:33:23.402Z',\n",
       "  'updatedAt': '2021-12-20T20:39:20.361Z',\n",
       "  'url': 'https://api.disneyapi.dev/characters/291',\n",
       "  '__v': 0},\n",
       " {'_id': 303,\n",
       "  'films': [],\n",
       "  'shortFilms': [],\n",
       "  'tvShows': [],\n",
       "  'videoGames': [],\n",
       "  'parkAttractions': ['Tower of Terror'],\n",
       "  'allies': [],\n",
       "  'enemies': [],\n",
       "  'sourceUrl': 'https://disney.fandom.com/wiki/Archibald_Smelding',\n",
       "  'name': 'Archibald Smelding',\n",
       "  'imageUrl': 'https://static.wikia.nocookie.net/disney/images/a/a6/Archibald_Smelding.jpg',\n",
       "  'createdAt': '2021-04-12T01:33:30.627Z',\n",
       "  'updatedAt': '2021-12-20T20:39:20.361Z',\n",
       "  'url': 'https://api.disneyapi.dev/characters/303',\n",
       "  '__v': 0},\n",
       " {'_id': 322,\n",
       "  'films': ['Treasure Planet'],\n",
       "  'shortFilms': [],\n",
       "  'tvShows': [],\n",
       "  'videoGames': [],\n",
       "  'parkAttractions': [],\n",
       "  'allies': [],\n",
       "  'enemies': [],\n",
       "  'sourceUrl': 'https://disney.fandom.com/wiki/Mr._Arrow',\n",
       "  'name': 'Mr. Arrow',\n",
       "  'imageUrl': 'https://static.wikia.nocookie.net/disney/images/5/51/Profile_-_Mr._Arrow.png',\n",
       "  'createdAt': '2021-04-12T01:33:43.750Z',\n",
       "  'updatedAt': '2021-12-20T20:39:20.362Z',\n",
       "  'url': 'https://api.disneyapi.dev/characters/322',\n",
       "  '__v': 0},\n",
       " {'_id': 351,\n",
       "  'films': [\"The Little Mermaid: Ariel's Beginning\",\n",
       "   'The Little Mermaid (live-action film)'],\n",
       "  'shortFilms': [],\n",
       "  'tvShows': [],\n",
       "  'videoGames': [],\n",
       "  'parkAttractions': [],\n",
       "  'allies': [],\n",
       "  'enemies': [],\n",
       "  'sourceUrl': 'https://disney.fandom.com/wiki/Queen_Athena',\n",
       "  'name': 'Queen Athena',\n",
       "  'imageUrl': 'https://static.wikia.nocookie.net/disney/images/4/41/Athena_TLM.jpg',\n",
       "  'createdAt': '2021-04-12T01:34:01.940Z',\n",
       "  'updatedAt': '2021-12-20T20:39:20.872Z',\n",
       "  'url': 'https://api.disneyapi.dev/characters/351',\n",
       "  '__v': 0},\n",
       " '[Hercules (TV series)]']"
      ]
     },
     "execution_count": 57,
     "metadata": {},
     "output_type": "execute_result"
    }
   ],
   "source": [
    "url = 'https://api.disneyapi.dev/character'\n",
    "response = requests.get(url)\n",
    "my_character_data = response.json()['data']\n",
    "my_character_data\n",
    "result = pd.DataFrame.from_dict(my_character_data)\n",
    "variable = \"\".join('[Hercules (TV series)]')\n",
    "my_character_data.append(variable)\n",
    "my_character_data\n"
   ]
  },
  {
   "cell_type": "code",
   "execution_count": 185,
   "metadata": {},
   "outputs": [
    {
     "name": "stderr",
     "output_type": "stream",
     "text": [
      "/var/folders/qb/kypsbnkd3x17lyrmt3wfgwph0000gn/T/ipykernel_17175/3921077630.py:67: SettingWithCopyWarning:\n",
      "\n",
      "\n",
      "A value is trying to be set on a copy of a slice from a DataFrame\n",
      "\n",
      "See the caveats in the documentation: https://pandas.pydata.org/pandas-docs/stable/user_guide/indexing.html#returning-a-view-versus-a-copy\n",
      "\n"
     ]
    },
    {
     "data": {
      "text/html": [
       "<div>\n",
       "<style scoped>\n",
       "    .dataframe tbody tr th:only-of-type {\n",
       "        vertical-align: middle;\n",
       "    }\n",
       "\n",
       "    .dataframe tbody tr th {\n",
       "        vertical-align: top;\n",
       "    }\n",
       "\n",
       "    .dataframe thead th {\n",
       "        text-align: right;\n",
       "    }\n",
       "</style>\n",
       "<table border=\"1\" class=\"dataframe\">\n",
       "  <thead>\n",
       "    <tr style=\"text-align: right;\">\n",
       "      <th></th>\n",
       "      <th>names</th>\n",
       "      <th>tv_shows</th>\n",
       "      <th>films</th>\n",
       "      <th>shortFilms</th>\n",
       "      <th>allies</th>\n",
       "      <th>enemies</th>\n",
       "      <th>park_attractions</th>\n",
       "    </tr>\n",
       "  </thead>\n",
       "  <tbody>\n",
       "    <tr>\n",
       "      <th>28</th>\n",
       "      <td>Baloo</td>\n",
       "      <td>The Mouse Factory, TaleSpin, Raw Toonage, Alad...</td>\n",
       "      <td>The Jungle Book,The Jungle Book 2,Rudyard Kipl...</td>\n",
       "      <td></td>\n",
       "      <td></td>\n",
       "      <td></td>\n",
       "      <td>The Disney Afternoon Live!: Plane Crazy, Micke...</td>\n",
       "    </tr>\n",
       "    <tr>\n",
       "      <th>Total</th>\n",
       "      <td>1</td>\n",
       "      <td>1</td>\n",
       "      <td>1</td>\n",
       "      <td>1</td>\n",
       "      <td>1</td>\n",
       "      <td>1</td>\n",
       "      <td>1</td>\n",
       "    </tr>\n",
       "  </tbody>\n",
       "</table>\n",
       "</div>"
      ],
      "text/plain": [
       "       names                                           tv_shows  \\\n",
       "28     Baloo  The Mouse Factory, TaleSpin, Raw Toonage, Alad...   \n",
       "Total      1                                                  1   \n",
       "\n",
       "                                                   films shortFilms allies  \\\n",
       "28     The Jungle Book,The Jungle Book 2,Rudyard Kipl...                     \n",
       "Total                                                  1          1      1   \n",
       "\n",
       "      enemies                                   park_attractions  \n",
       "28             The Disney Afternoon Live!: Plane Crazy, Micke...  \n",
       "Total       1                                                  1  "
      ]
     },
     "execution_count": 185,
     "metadata": {},
     "output_type": "execute_result"
    }
   ],
   "source": [
    "import plotly.express as px, pandas as pd\n",
    "url = 'https://api.disneyapi.dev/character'\n",
    "response = requests.get(url)\n",
    "# Now, to store required fields from API into a DataFrame\n",
    "my_character_data = response.json()['data']\n",
    "# Step 1: Create variable for each required column\n",
    "names = [my_character_data[x]['name'] for x in range(len(my_character_data))] # Name\n",
    "tv_shows = [my_character_data[x]['tvShows'] for x in range(len(my_character_data))] # Tv Shows\n",
    "allies = [my_character_data[x]['allies'] for x in range(len(my_character_data))] # Checked, no allies listed in dict\n",
    "enemies = [my_character_data[x]['enemies'] for x in range(len(my_character_data))]\n",
    "films = [my_character_data[x]['films'] for x in range(len(my_character_data))] # films listed in dict\n",
    "short_films = [my_character_data[x]['shortFilms'] for x in range(len(my_character_data))]\n",
    "park_attractions = [my_character_data[x]['parkAttractions'] for x in range(len(my_character_data))] # Park Attractions\n",
    "# Step 2: Create dictionary with each available variable\n",
    "my_character_dict = {\n",
    "'names': names,\n",
    "'tv_shows': [', '.join(shows) if shows else ' ' for shows in tv_shows],\n",
    "'films': [','.join(film) if film else ' ' for film in films],\n",
    "'shortFilms': [','.join(shorts) if shorts else ' ' for shorts in short_films],\n",
    "'allies': [','.join(ally) if ally else ' ' for ally in allies],\n",
    "'enemies': [','.join(enemy) if enemy else ' ' for enemy in enemies],\n",
    "'park_attractions': [', '.join(attractions) if attractions else ' ' for attractions in park_attractions]\n",
    "}\n",
    "# Step 3: Convert Dictionary to DataFrame\n",
    "df = pd.DataFrame.from_dict(my_character_dict)\n",
    "df.describe()\n",
    "# display(df.groupby(['Achilles']).count())\n",
    "result = df[(df['names'] == 'Baloo')]\n",
    "# result2 = result.sort_values('films', ascending=False).reset_index(drop=True).head(1)\n",
    "# display(result)\n",
    "df\n",
    "result.head()\n",
    "tv_shows = 0\n",
    "films = 0\n",
    "# park_attractions = 0\n",
    "# def baloo_dict():\n",
    "    \n",
    "# tv_shows1 = 0\n",
    "# films1 = 0\n",
    "# park_attractions1 = 0 \n",
    "# for num in result():\n",
    "#     for show in tv_shows:\n",
    "#          tv_shows1 += 1\n",
    "#     for film in films:\n",
    "#         films1 += 1\n",
    "#     for park_attraction in park_attractions:\n",
    "#         park_attractions1 += 1\n",
    "# new_dict = {\n",
    "#         'name': 'Baloo',\n",
    "#         'tv_show_count': tv_shows1,\n",
    "#         'film_count': films1,\n",
    "#         'park_attractions': park_attractions1\n",
    "\n",
    "#     }\n",
    "# pd.DataFrame.from_dict(new_dict)\n",
    "\n",
    "# px.bar(df)\n",
    "# result3= result.sum()\n",
    "# pd.DataFrame.from_dict(result3)\n",
    "# results3 = result.loc[['tv_shows','films','park_attractions']].sum()\n",
    "\n",
    "# result\n",
    "# result2 = result['park_attractions'].sum()\n",
    "# result2 = sum(result['park_attractions'])\n",
    "# result.loc['Total'] = pd.Series(df['park_attractions'].sum(), index=['park_attractions'])\n",
    "# result\n",
    "result.loc['Total'] = result.count()\n",
    "result\n",
    "\n",
    "# result.loc['Total', 'park_attractions'] = result.park_attractions.sum()\n",
    "# result.at['Total', 'park_attractions'] = result['park_attractions'].sum()\n",
    "# results4 = result.append(pd.DataFrame(result.park_attractions.sum(), index=['Total'], columns=['park_attractions']))\n",
    "# results4"
   ]
  },
  {
   "cell_type": "code",
   "execution_count": 218,
   "metadata": {},
   "outputs": [
    {
     "name": "stdout",
     "output_type": "stream",
     "text": [
      "7\n",
      "9\n",
      "14\n"
     ]
    }
   ],
   "source": [
    "new_show = []\n",
    "for value in df['tv_shows'][df['names'] == 'Baloo']:\n",
    "    new_show.append(value.split(','))\n",
    "total_amt_of_shows = len(new_show[0])\n",
    "new_film = []\n",
    "for value in df['films'][df['names'] == 'Baloo']:\n",
    "    new_film.append(value.split(','))\n",
    "    print(len(new_film[0]))\n",
    "# short_films = []\n",
    "# for value in df['shortFilms'][df['names'] == 'Baloo']:\n",
    "#     short_films.append(value.split(','))\n",
    "#     print(len(short_films[0]))\n",
    "park_attractions = []\n",
    "for value in df['park_attractions'][df['names'] == 'Baloo']:\n",
    "    park_attractions.append(value.split(','))\n",
    "    print(len(park_attractions[0]))\n",
    "    baloo_dict = {\n",
    "        'name': 'Baloo',\n",
    "        'total_number_of_tvshows': total_amt_of_shows,\n",
    "\n",
    "\n",
    "    }"
   ]
  },
  {
   "cell_type": "code",
   "execution_count": 171,
   "metadata": {},
   "outputs": [
    {
     "data": {
      "text/plain": [
       "names               0\n",
       "tv_shows            0\n",
       "films               0\n",
       "shortFilms          0\n",
       "allies              0\n",
       "enemies             0\n",
       "park_attractions    0\n",
       "dtype: object"
      ]
     },
     "execution_count": 171,
     "metadata": {},
     "output_type": "execute_result"
    }
   ],
   "source": [
    "results3 = result.iloc[1:].sum()\n",
    "results3"
   ]
  },
  {
   "cell_type": "code",
   "execution_count": 132,
   "metadata": {},
   "outputs": [
    {
     "data": {
      "application/vnd.plotly.v1+json": {
       "config": {
        "plotlyServerURL": "https://plot.ly"
       },
       "data": [
        {
         "alignmentgroup": "True",
         "hovertemplate": "variable=%{x}<br>value=%{y}<extra></extra>",
         "legendgroup": "",
         "marker": {
          "color": "#636efa"
         },
         "name": "",
         "notched": false,
         "offsetgroup": "",
         "orientation": "v",
         "showlegend": false,
         "type": "box",
         "x": [
          "names",
          "names",
          "names",
          "names",
          "names",
          "names",
          "names",
          "names",
          "names",
          "names",
          "names",
          "names",
          "names",
          "names",
          "names",
          "names",
          "names",
          "names",
          "names",
          "names",
          "names",
          "names",
          "names",
          "names",
          "names",
          "names",
          "names",
          "names",
          "names",
          "names",
          "names",
          "names",
          "names",
          "names",
          "names",
          "names",
          "names",
          "names",
          "names",
          "names",
          "names",
          "names",
          "names",
          "names",
          "names",
          "names",
          "names",
          "names",
          "names",
          "names",
          "tv_shows",
          "tv_shows",
          "tv_shows",
          "tv_shows",
          "tv_shows",
          "tv_shows",
          "tv_shows",
          "tv_shows",
          "tv_shows",
          "tv_shows",
          "tv_shows",
          "tv_shows",
          "tv_shows",
          "tv_shows",
          "tv_shows",
          "tv_shows",
          "tv_shows",
          "tv_shows",
          "tv_shows",
          "tv_shows",
          "tv_shows",
          "tv_shows",
          "tv_shows",
          "tv_shows",
          "tv_shows",
          "tv_shows",
          "tv_shows",
          "tv_shows",
          "tv_shows",
          "tv_shows",
          "tv_shows",
          "tv_shows",
          "tv_shows",
          "tv_shows",
          "tv_shows",
          "tv_shows",
          "tv_shows",
          "tv_shows",
          "tv_shows",
          "tv_shows",
          "tv_shows",
          "tv_shows",
          "tv_shows",
          "tv_shows",
          "tv_shows",
          "tv_shows",
          "tv_shows",
          "tv_shows",
          "tv_shows",
          "tv_shows",
          "films",
          "films",
          "films",
          "films",
          "films",
          "films",
          "films",
          "films",
          "films",
          "films",
          "films",
          "films",
          "films",
          "films",
          "films",
          "films",
          "films",
          "films",
          "films",
          "films",
          "films",
          "films",
          "films",
          "films",
          "films",
          "films",
          "films",
          "films",
          "films",
          "films",
          "films",
          "films",
          "films",
          "films",
          "films",
          "films",
          "films",
          "films",
          "films",
          "films",
          "films",
          "films",
          "films",
          "films",
          "films",
          "films",
          "films",
          "films",
          "films",
          "films",
          "shortFilms",
          "shortFilms",
          "shortFilms",
          "shortFilms",
          "shortFilms",
          "shortFilms",
          "shortFilms",
          "shortFilms",
          "shortFilms",
          "shortFilms",
          "shortFilms",
          "shortFilms",
          "shortFilms",
          "shortFilms",
          "shortFilms",
          "shortFilms",
          "shortFilms",
          "shortFilms",
          "shortFilms",
          "shortFilms",
          "shortFilms",
          "shortFilms",
          "shortFilms",
          "shortFilms",
          "shortFilms",
          "shortFilms",
          "shortFilms",
          "shortFilms",
          "shortFilms",
          "shortFilms",
          "shortFilms",
          "shortFilms",
          "shortFilms",
          "shortFilms",
          "shortFilms",
          "shortFilms",
          "shortFilms",
          "shortFilms",
          "shortFilms",
          "shortFilms",
          "shortFilms",
          "shortFilms",
          "shortFilms",
          "shortFilms",
          "shortFilms",
          "shortFilms",
          "shortFilms",
          "shortFilms",
          "shortFilms",
          "shortFilms",
          "allies",
          "allies",
          "allies",
          "allies",
          "allies",
          "allies",
          "allies",
          "allies",
          "allies",
          "allies",
          "allies",
          "allies",
          "allies",
          "allies",
          "allies",
          "allies",
          "allies",
          "allies",
          "allies",
          "allies",
          "allies",
          "allies",
          "allies",
          "allies",
          "allies",
          "allies",
          "allies",
          "allies",
          "allies",
          "allies",
          "allies",
          "allies",
          "allies",
          "allies",
          "allies",
          "allies",
          "allies",
          "allies",
          "allies",
          "allies",
          "allies",
          "allies",
          "allies",
          "allies",
          "allies",
          "allies",
          "allies",
          "allies",
          "allies",
          "allies",
          "enemies",
          "enemies",
          "enemies",
          "enemies",
          "enemies",
          "enemies",
          "enemies",
          "enemies",
          "enemies",
          "enemies",
          "enemies",
          "enemies",
          "enemies",
          "enemies",
          "enemies",
          "enemies",
          "enemies",
          "enemies",
          "enemies",
          "enemies",
          "enemies",
          "enemies",
          "enemies",
          "enemies",
          "enemies",
          "enemies",
          "enemies",
          "enemies",
          "enemies",
          "enemies",
          "enemies",
          "enemies",
          "enemies",
          "enemies",
          "enemies",
          "enemies",
          "enemies",
          "enemies",
          "enemies",
          "enemies",
          "enemies",
          "enemies",
          "enemies",
          "enemies",
          "enemies",
          "enemies",
          "enemies",
          "enemies",
          "enemies",
          "enemies",
          "park_attractions",
          "park_attractions",
          "park_attractions",
          "park_attractions",
          "park_attractions",
          "park_attractions",
          "park_attractions",
          "park_attractions",
          "park_attractions",
          "park_attractions",
          "park_attractions",
          "park_attractions",
          "park_attractions",
          "park_attractions",
          "park_attractions",
          "park_attractions",
          "park_attractions",
          "park_attractions",
          "park_attractions",
          "park_attractions",
          "park_attractions",
          "park_attractions",
          "park_attractions",
          "park_attractions",
          "park_attractions",
          "park_attractions",
          "park_attractions",
          "park_attractions",
          "park_attractions",
          "park_attractions",
          "park_attractions",
          "park_attractions",
          "park_attractions",
          "park_attractions",
          "park_attractions",
          "park_attractions",
          "park_attractions",
          "park_attractions",
          "park_attractions",
          "park_attractions",
          "park_attractions",
          "park_attractions",
          "park_attractions",
          "park_attractions",
          "park_attractions",
          "park_attractions",
          "park_attractions",
          "park_attractions",
          "park_attractions",
          "park_attractions"
         ],
         "x0": " ",
         "xaxis": "x",
         "y": [
          "Achilles",
          "Abigail the Cow",
          "Abdullah",
          "Admiral Boom and Mr. Binnacle",
          ".GIFfany",
          "90's Adventure Bear",
          "Candace Adams",
          "Ahadi",
          "Al Muddy Sultan",
          "Irwina Allen",
          "Ambrose",
          "Amos",
          "Arabella",
          "Arabella Smith",
          "Queen Ariel",
          "Arthur and Cecil",
          "Fiona Ashbury",
          "Ashcan and Pete",
          "Aspen",
          "Astuto",
          "Athena",
          "Aunt Em",
          "Aviarius",
          "Prince Axel",
          "Butter Otter",
          "Baby Panda",
          "Marta Balatico",
          "Mr. Baldwin",
          "Baloo",
          "Michael Banks",
          "Banshee",
          "Baron Blitz",
          "Sir Bart",
          "Bernice Beachmont",
          "Beardini the Pirate Magician",
          "Beheaded Knight",
          "Alan Coleman",
          "Alma",
          "Captain Amelia",
          "Amelia Duckworth",
          "Captain Anderson",
          "Erica Ange",
          "Angela",
          "Anthony Biddle",
          "Apaches",
          "Apothecary Gary",
          "Aqua",
          "Archibald Smelding",
          "Mr. Arrow",
          "Queen Athena",
          "Hercules (TV series)",
          " ",
          " ",
          " ",
          "Gravity Falls",
          "Pickle and Peanut",
          "K.C. Undercover",
          " ",
          "Aladdin (TV series)",
          "Chip 'n Dale Rescue Rangers",
          " ",
          " ",
          " ",
          " ",
          "DuckTales",
          "Jungle Cubs",
          "Fillmore!",
          " ",
          " ",
          "The Lion Guard",
          " ",
          "Once Upon a Time",
          "Kim Possible",
          " ",
          "PB&J Otter",
          "Timon & Pumbaa",
          "Mackenzie Falls",
          "Fish Hooks",
          "The Mouse Factory, TaleSpin, Raw Toonage, Aladdin (TV series), Jungle Cubs, House of Mouse, DuckTales (2017 series)",
          " ",
          "Chip 'n Dale Rescue Rangers",
          "Teamo Supremo",
          " ",
          "Fillmore!",
          "Jake and the Never Land Pirates",
          " ",
          " ",
          "Doc McStuffins",
          " ",
          " ",
          " ",
          " ",
          "Fish Hooks",
          " ",
          " ",
          "Amphibia",
          " ",
          " ",
          " ",
          " ",
          "Hercules (film)",
          "The Fox and the Hound,The Fox and the Hound 2",
          "Cheetah",
          "Mary Poppins (film),Mary Poppins Returns",
          " ",
          " ",
          " ",
          "The Lion King,The Lion King (2019 film)",
          " ",
          " ",
          "The Robber Kitten,Mickey's Polo Team",
          "Ben and Me",
          " ",
          " ",
          " ",
          " ",
          " ",
          "Homeward Bound II: Lost in San Francisco",
          "Bedtime Stories",
          " ",
          "Tomorrowland (film)",
          "Return to Oz",
          " ",
          " ",
          " ",
          " ",
          " ",
          " ",
          "The Jungle Book,The Jungle Book 2,Rudyard Kipling's The Jungle Book,The Jungle Book: Mowgli's Story,Mickey's Magical Christmas: Snowed in at the House of Mouse,Mickey's House of Villains,The Lion King 1½,Meet the Robinsons,The Jungle Book (2016 film)",
          "Mary Poppins (film),Mary Poppins Returns",
          " ",
          " ",
          "The Sword in the Stone",
          " ",
          " ",
          "The Haunted Mansion (film)",
          "Freaky Friday (2003 film)",
          " ",
          "Treasure Planet",
          " ",
          "The Cat from Outer Space",
          " ",
          " ",
          "The Happiest Millionaire",
          "Savage Sam",
          " ",
          " ",
          " ",
          "Treasure Planet",
          "The Little Mermaid: Ariel's Beginning,The Little Mermaid (live-action film)",
          " ",
          " ",
          " ",
          " ",
          " ",
          " ",
          " ",
          " ",
          " ",
          " ",
          " ",
          " ",
          " ",
          " ",
          " ",
          " ",
          " ",
          " ",
          " ",
          " ",
          " ",
          " ",
          " ",
          " ",
          " ",
          " ",
          " ",
          " ",
          " ",
          " ",
          " ",
          " ",
          " ",
          " ",
          " ",
          " ",
          " ",
          " ",
          " ",
          " ",
          " ",
          " ",
          " ",
          " ",
          " ",
          " ",
          " ",
          " ",
          " ",
          " ",
          " ",
          " ",
          " ",
          " ",
          " ",
          " ",
          " ",
          " ",
          " ",
          " ",
          " ",
          " ",
          " ",
          " ",
          " ",
          " ",
          " ",
          " ",
          " ",
          " ",
          " ",
          " ",
          " ",
          " ",
          " ",
          " ",
          " ",
          " ",
          " ",
          " ",
          " ",
          " ",
          " ",
          " ",
          " ",
          " ",
          " ",
          " ",
          " ",
          " ",
          " ",
          " ",
          " ",
          " ",
          " ",
          " ",
          " ",
          " ",
          " ",
          " ",
          " ",
          " ",
          " ",
          " ",
          " ",
          " ",
          " ",
          " ",
          " ",
          " ",
          " ",
          " ",
          " ",
          " ",
          " ",
          " ",
          " ",
          " ",
          " ",
          " ",
          " ",
          " ",
          " ",
          " ",
          " ",
          " ",
          " ",
          " ",
          " ",
          " ",
          " ",
          " ",
          " ",
          " ",
          " ",
          " ",
          " ",
          " ",
          " ",
          " ",
          " ",
          " ",
          " ",
          " ",
          " ",
          " ",
          " ",
          " ",
          " ",
          " ",
          " ",
          " ",
          " ",
          " ",
          " ",
          " ",
          " ",
          " ",
          " ",
          " ",
          " ",
          " ",
          " ",
          "Tortuga Tavern",
          " ",
          " ",
          " ",
          " ",
          " ",
          " ",
          " ",
          " ",
          " ",
          " ",
          " ",
          " ",
          " ",
          " ",
          "The Disney Afternoon Live!: Plane Crazy, Mickey's Magical TV World, Fantasmic!, It's a Small World, Mickey Mouse Revue, Celebrate a Dreams Come True Parade, Mickey's Jammin' Jungle Parade, Mickey's Jingle Jungle Parade, Disney Stars and Motorcars Parade, Parade of the Stars, World of Color, Mickey and the Wondrous Book, La Forêt de l'Enchantement: Une aventure musicale Disney, Happily Ever After (fireworks show)",
          " ",
          " ",
          " ",
          " ",
          " ",
          " ",
          "The Haunted Mansion",
          " ",
          " ",
          " ",
          " ",
          " ",
          " ",
          " ",
          " ",
          " ",
          " ",
          " ",
          "Tower of Terror",
          " ",
          " "
         ],
         "y0": " ",
         "yaxis": "y"
        }
       ],
       "layout": {
        "boxmode": "group",
        "legend": {
         "tracegroupgap": 0
        },
        "margin": {
         "t": 60
        },
        "template": {
         "data": {
          "bar": [
           {
            "error_x": {
             "color": "#2a3f5f"
            },
            "error_y": {
             "color": "#2a3f5f"
            },
            "marker": {
             "line": {
              "color": "#E5ECF6",
              "width": 0.5
             },
             "pattern": {
              "fillmode": "overlay",
              "size": 10,
              "solidity": 0.2
             }
            },
            "type": "bar"
           }
          ],
          "barpolar": [
           {
            "marker": {
             "line": {
              "color": "#E5ECF6",
              "width": 0.5
             },
             "pattern": {
              "fillmode": "overlay",
              "size": 10,
              "solidity": 0.2
             }
            },
            "type": "barpolar"
           }
          ],
          "carpet": [
           {
            "aaxis": {
             "endlinecolor": "#2a3f5f",
             "gridcolor": "white",
             "linecolor": "white",
             "minorgridcolor": "white",
             "startlinecolor": "#2a3f5f"
            },
            "baxis": {
             "endlinecolor": "#2a3f5f",
             "gridcolor": "white",
             "linecolor": "white",
             "minorgridcolor": "white",
             "startlinecolor": "#2a3f5f"
            },
            "type": "carpet"
           }
          ],
          "choropleth": [
           {
            "colorbar": {
             "outlinewidth": 0,
             "ticks": ""
            },
            "type": "choropleth"
           }
          ],
          "contour": [
           {
            "colorbar": {
             "outlinewidth": 0,
             "ticks": ""
            },
            "colorscale": [
             [
              0,
              "#0d0887"
             ],
             [
              0.1111111111111111,
              "#46039f"
             ],
             [
              0.2222222222222222,
              "#7201a8"
             ],
             [
              0.3333333333333333,
              "#9c179e"
             ],
             [
              0.4444444444444444,
              "#bd3786"
             ],
             [
              0.5555555555555556,
              "#d8576b"
             ],
             [
              0.6666666666666666,
              "#ed7953"
             ],
             [
              0.7777777777777778,
              "#fb9f3a"
             ],
             [
              0.8888888888888888,
              "#fdca26"
             ],
             [
              1,
              "#f0f921"
             ]
            ],
            "type": "contour"
           }
          ],
          "contourcarpet": [
           {
            "colorbar": {
             "outlinewidth": 0,
             "ticks": ""
            },
            "type": "contourcarpet"
           }
          ],
          "heatmap": [
           {
            "colorbar": {
             "outlinewidth": 0,
             "ticks": ""
            },
            "colorscale": [
             [
              0,
              "#0d0887"
             ],
             [
              0.1111111111111111,
              "#46039f"
             ],
             [
              0.2222222222222222,
              "#7201a8"
             ],
             [
              0.3333333333333333,
              "#9c179e"
             ],
             [
              0.4444444444444444,
              "#bd3786"
             ],
             [
              0.5555555555555556,
              "#d8576b"
             ],
             [
              0.6666666666666666,
              "#ed7953"
             ],
             [
              0.7777777777777778,
              "#fb9f3a"
             ],
             [
              0.8888888888888888,
              "#fdca26"
             ],
             [
              1,
              "#f0f921"
             ]
            ],
            "type": "heatmap"
           }
          ],
          "heatmapgl": [
           {
            "colorbar": {
             "outlinewidth": 0,
             "ticks": ""
            },
            "colorscale": [
             [
              0,
              "#0d0887"
             ],
             [
              0.1111111111111111,
              "#46039f"
             ],
             [
              0.2222222222222222,
              "#7201a8"
             ],
             [
              0.3333333333333333,
              "#9c179e"
             ],
             [
              0.4444444444444444,
              "#bd3786"
             ],
             [
              0.5555555555555556,
              "#d8576b"
             ],
             [
              0.6666666666666666,
              "#ed7953"
             ],
             [
              0.7777777777777778,
              "#fb9f3a"
             ],
             [
              0.8888888888888888,
              "#fdca26"
             ],
             [
              1,
              "#f0f921"
             ]
            ],
            "type": "heatmapgl"
           }
          ],
          "histogram": [
           {
            "marker": {
             "pattern": {
              "fillmode": "overlay",
              "size": 10,
              "solidity": 0.2
             }
            },
            "type": "histogram"
           }
          ],
          "histogram2d": [
           {
            "colorbar": {
             "outlinewidth": 0,
             "ticks": ""
            },
            "colorscale": [
             [
              0,
              "#0d0887"
             ],
             [
              0.1111111111111111,
              "#46039f"
             ],
             [
              0.2222222222222222,
              "#7201a8"
             ],
             [
              0.3333333333333333,
              "#9c179e"
             ],
             [
              0.4444444444444444,
              "#bd3786"
             ],
             [
              0.5555555555555556,
              "#d8576b"
             ],
             [
              0.6666666666666666,
              "#ed7953"
             ],
             [
              0.7777777777777778,
              "#fb9f3a"
             ],
             [
              0.8888888888888888,
              "#fdca26"
             ],
             [
              1,
              "#f0f921"
             ]
            ],
            "type": "histogram2d"
           }
          ],
          "histogram2dcontour": [
           {
            "colorbar": {
             "outlinewidth": 0,
             "ticks": ""
            },
            "colorscale": [
             [
              0,
              "#0d0887"
             ],
             [
              0.1111111111111111,
              "#46039f"
             ],
             [
              0.2222222222222222,
              "#7201a8"
             ],
             [
              0.3333333333333333,
              "#9c179e"
             ],
             [
              0.4444444444444444,
              "#bd3786"
             ],
             [
              0.5555555555555556,
              "#d8576b"
             ],
             [
              0.6666666666666666,
              "#ed7953"
             ],
             [
              0.7777777777777778,
              "#fb9f3a"
             ],
             [
              0.8888888888888888,
              "#fdca26"
             ],
             [
              1,
              "#f0f921"
             ]
            ],
            "type": "histogram2dcontour"
           }
          ],
          "mesh3d": [
           {
            "colorbar": {
             "outlinewidth": 0,
             "ticks": ""
            },
            "type": "mesh3d"
           }
          ],
          "parcoords": [
           {
            "line": {
             "colorbar": {
              "outlinewidth": 0,
              "ticks": ""
             }
            },
            "type": "parcoords"
           }
          ],
          "pie": [
           {
            "automargin": true,
            "type": "pie"
           }
          ],
          "scatter": [
           {
            "fillpattern": {
             "fillmode": "overlay",
             "size": 10,
             "solidity": 0.2
            },
            "type": "scatter"
           }
          ],
          "scatter3d": [
           {
            "line": {
             "colorbar": {
              "outlinewidth": 0,
              "ticks": ""
             }
            },
            "marker": {
             "colorbar": {
              "outlinewidth": 0,
              "ticks": ""
             }
            },
            "type": "scatter3d"
           }
          ],
          "scattercarpet": [
           {
            "marker": {
             "colorbar": {
              "outlinewidth": 0,
              "ticks": ""
             }
            },
            "type": "scattercarpet"
           }
          ],
          "scattergeo": [
           {
            "marker": {
             "colorbar": {
              "outlinewidth": 0,
              "ticks": ""
             }
            },
            "type": "scattergeo"
           }
          ],
          "scattergl": [
           {
            "marker": {
             "colorbar": {
              "outlinewidth": 0,
              "ticks": ""
             }
            },
            "type": "scattergl"
           }
          ],
          "scattermapbox": [
           {
            "marker": {
             "colorbar": {
              "outlinewidth": 0,
              "ticks": ""
             }
            },
            "type": "scattermapbox"
           }
          ],
          "scatterpolar": [
           {
            "marker": {
             "colorbar": {
              "outlinewidth": 0,
              "ticks": ""
             }
            },
            "type": "scatterpolar"
           }
          ],
          "scatterpolargl": [
           {
            "marker": {
             "colorbar": {
              "outlinewidth": 0,
              "ticks": ""
             }
            },
            "type": "scatterpolargl"
           }
          ],
          "scatterternary": [
           {
            "marker": {
             "colorbar": {
              "outlinewidth": 0,
              "ticks": ""
             }
            },
            "type": "scatterternary"
           }
          ],
          "surface": [
           {
            "colorbar": {
             "outlinewidth": 0,
             "ticks": ""
            },
            "colorscale": [
             [
              0,
              "#0d0887"
             ],
             [
              0.1111111111111111,
              "#46039f"
             ],
             [
              0.2222222222222222,
              "#7201a8"
             ],
             [
              0.3333333333333333,
              "#9c179e"
             ],
             [
              0.4444444444444444,
              "#bd3786"
             ],
             [
              0.5555555555555556,
              "#d8576b"
             ],
             [
              0.6666666666666666,
              "#ed7953"
             ],
             [
              0.7777777777777778,
              "#fb9f3a"
             ],
             [
              0.8888888888888888,
              "#fdca26"
             ],
             [
              1,
              "#f0f921"
             ]
            ],
            "type": "surface"
           }
          ],
          "table": [
           {
            "cells": {
             "fill": {
              "color": "#EBF0F8"
             },
             "line": {
              "color": "white"
             }
            },
            "header": {
             "fill": {
              "color": "#C8D4E3"
             },
             "line": {
              "color": "white"
             }
            },
            "type": "table"
           }
          ]
         },
         "layout": {
          "annotationdefaults": {
           "arrowcolor": "#2a3f5f",
           "arrowhead": 0,
           "arrowwidth": 1
          },
          "autotypenumbers": "strict",
          "coloraxis": {
           "colorbar": {
            "outlinewidth": 0,
            "ticks": ""
           }
          },
          "colorscale": {
           "diverging": [
            [
             0,
             "#8e0152"
            ],
            [
             0.1,
             "#c51b7d"
            ],
            [
             0.2,
             "#de77ae"
            ],
            [
             0.3,
             "#f1b6da"
            ],
            [
             0.4,
             "#fde0ef"
            ],
            [
             0.5,
             "#f7f7f7"
            ],
            [
             0.6,
             "#e6f5d0"
            ],
            [
             0.7,
             "#b8e186"
            ],
            [
             0.8,
             "#7fbc41"
            ],
            [
             0.9,
             "#4d9221"
            ],
            [
             1,
             "#276419"
            ]
           ],
           "sequential": [
            [
             0,
             "#0d0887"
            ],
            [
             0.1111111111111111,
             "#46039f"
            ],
            [
             0.2222222222222222,
             "#7201a8"
            ],
            [
             0.3333333333333333,
             "#9c179e"
            ],
            [
             0.4444444444444444,
             "#bd3786"
            ],
            [
             0.5555555555555556,
             "#d8576b"
            ],
            [
             0.6666666666666666,
             "#ed7953"
            ],
            [
             0.7777777777777778,
             "#fb9f3a"
            ],
            [
             0.8888888888888888,
             "#fdca26"
            ],
            [
             1,
             "#f0f921"
            ]
           ],
           "sequentialminus": [
            [
             0,
             "#0d0887"
            ],
            [
             0.1111111111111111,
             "#46039f"
            ],
            [
             0.2222222222222222,
             "#7201a8"
            ],
            [
             0.3333333333333333,
             "#9c179e"
            ],
            [
             0.4444444444444444,
             "#bd3786"
            ],
            [
             0.5555555555555556,
             "#d8576b"
            ],
            [
             0.6666666666666666,
             "#ed7953"
            ],
            [
             0.7777777777777778,
             "#fb9f3a"
            ],
            [
             0.8888888888888888,
             "#fdca26"
            ],
            [
             1,
             "#f0f921"
            ]
           ]
          },
          "colorway": [
           "#636efa",
           "#EF553B",
           "#00cc96",
           "#ab63fa",
           "#FFA15A",
           "#19d3f3",
           "#FF6692",
           "#B6E880",
           "#FF97FF",
           "#FECB52"
          ],
          "font": {
           "color": "#2a3f5f"
          },
          "geo": {
           "bgcolor": "white",
           "lakecolor": "white",
           "landcolor": "#E5ECF6",
           "showlakes": true,
           "showland": true,
           "subunitcolor": "white"
          },
          "hoverlabel": {
           "align": "left"
          },
          "hovermode": "closest",
          "mapbox": {
           "style": "light"
          },
          "paper_bgcolor": "white",
          "plot_bgcolor": "#E5ECF6",
          "polar": {
           "angularaxis": {
            "gridcolor": "white",
            "linecolor": "white",
            "ticks": ""
           },
           "bgcolor": "#E5ECF6",
           "radialaxis": {
            "gridcolor": "white",
            "linecolor": "white",
            "ticks": ""
           }
          },
          "scene": {
           "xaxis": {
            "backgroundcolor": "#E5ECF6",
            "gridcolor": "white",
            "gridwidth": 2,
            "linecolor": "white",
            "showbackground": true,
            "ticks": "",
            "zerolinecolor": "white"
           },
           "yaxis": {
            "backgroundcolor": "#E5ECF6",
            "gridcolor": "white",
            "gridwidth": 2,
            "linecolor": "white",
            "showbackground": true,
            "ticks": "",
            "zerolinecolor": "white"
           },
           "zaxis": {
            "backgroundcolor": "#E5ECF6",
            "gridcolor": "white",
            "gridwidth": 2,
            "linecolor": "white",
            "showbackground": true,
            "ticks": "",
            "zerolinecolor": "white"
           }
          },
          "shapedefaults": {
           "line": {
            "color": "#2a3f5f"
           }
          },
          "ternary": {
           "aaxis": {
            "gridcolor": "white",
            "linecolor": "white",
            "ticks": ""
           },
           "baxis": {
            "gridcolor": "white",
            "linecolor": "white",
            "ticks": ""
           },
           "bgcolor": "#E5ECF6",
           "caxis": {
            "gridcolor": "white",
            "linecolor": "white",
            "ticks": ""
           }
          },
          "title": {
           "x": 0.05
          },
          "xaxis": {
           "automargin": true,
           "gridcolor": "white",
           "linecolor": "white",
           "ticks": "",
           "title": {
            "standoff": 15
           },
           "zerolinecolor": "white",
           "zerolinewidth": 2
          },
          "yaxis": {
           "automargin": true,
           "gridcolor": "white",
           "linecolor": "white",
           "ticks": "",
           "title": {
            "standoff": 15
           },
           "zerolinecolor": "white",
           "zerolinewidth": 2
          }
         }
        },
        "xaxis": {
         "anchor": "y",
         "domain": [
          0,
          1
         ],
         "title": {
          "text": "variable"
         }
        },
        "yaxis": {
         "anchor": "x",
         "domain": [
          0,
          1
         ],
         "title": {
          "text": "value"
         }
        }
       }
      }
     },
     "metadata": {},
     "output_type": "display_data"
    }
   ],
   "source": [
    "px.box(df)"
   ]
  },
  {
   "cell_type": "code",
   "execution_count": 108,
   "metadata": {},
   "outputs": [
    {
     "data": {
      "text/html": [
       "<div>\n",
       "<style scoped>\n",
       "    .dataframe tbody tr th:only-of-type {\n",
       "        vertical-align: middle;\n",
       "    }\n",
       "\n",
       "    .dataframe tbody tr th {\n",
       "        vertical-align: top;\n",
       "    }\n",
       "\n",
       "    .dataframe thead th {\n",
       "        text-align: right;\n",
       "    }\n",
       "</style>\n",
       "<table border=\"1\" class=\"dataframe\">\n",
       "  <thead>\n",
       "    <tr style=\"text-align: right;\">\n",
       "      <th></th>\n",
       "      <th>names</th>\n",
       "      <th>tv_shows</th>\n",
       "      <th>films</th>\n",
       "      <th>shortFilms</th>\n",
       "      <th>allies</th>\n",
       "      <th>enemies</th>\n",
       "      <th>park_attractions</th>\n",
       "    </tr>\n",
       "  </thead>\n",
       "  <tbody>\n",
       "    <tr>\n",
       "      <th>47</th>\n",
       "      <td>Archibald Smelding</td>\n",
       "      <td></td>\n",
       "      <td></td>\n",
       "      <td></td>\n",
       "      <td></td>\n",
       "      <td></td>\n",
       "      <td>Tower of Terror</td>\n",
       "    </tr>\n",
       "    <tr>\n",
       "      <th>13</th>\n",
       "      <td>Arabella Smith</td>\n",
       "      <td></td>\n",
       "      <td></td>\n",
       "      <td></td>\n",
       "      <td></td>\n",
       "      <td></td>\n",
       "      <td>Tortuga Tavern</td>\n",
       "    </tr>\n",
       "    <tr>\n",
       "      <th>35</th>\n",
       "      <td>Beheaded Knight</td>\n",
       "      <td></td>\n",
       "      <td>The Haunted Mansion (film)</td>\n",
       "      <td></td>\n",
       "      <td></td>\n",
       "      <td></td>\n",
       "      <td>The Haunted Mansion</td>\n",
       "    </tr>\n",
       "  </tbody>\n",
       "</table>\n",
       "</div>"
      ],
      "text/plain": [
       "                 names tv_shows                       films shortFilms allies  \\\n",
       "47  Archibald Smelding                                                          \n",
       "13      Arabella Smith                                                          \n",
       "35     Beheaded Knight           The Haunted Mansion (film)                     \n",
       "\n",
       "   enemies     park_attractions  \n",
       "47              Tower of Terror  \n",
       "13               Tortuga Tavern  \n",
       "35          The Haunted Mansion  "
      ]
     },
     "metadata": {},
     "output_type": "display_data"
    },
    {
     "data": {
      "text/plain": [
       "(array([1., 0., 0., 0., 0., 1., 0., 0., 0., 1.]),\n",
       " array([0. , 0.2, 0.4, 0.6, 0.8, 1. , 1.2, 1.4, 1.6, 1.8, 2. ]),\n",
       " <BarContainer object of 10 artists>)"
      ]
     },
     "execution_count": 108,
     "metadata": {},
     "output_type": "execute_result"
    },
    {
     "data": {
      "image/png": "[encoded data removed]",
      "text/plain": [
       "<Figure size 640x480 with 1 Axes>"
      ]
     },
     "metadata": {},
     "output_type": "display_data"
    }
   ],
   "source": [
    "# # plt.hist('park_attractions', data=df1)\n",
    "# # plt.xlabel('Park Attractions');\n",
    "# # plt.ylabel('Frequency');\n",
    "# sns.pairplot(df, y_vars=['tv_shows'])\n",
    "\n",
    "result = df.sort_values('park_attractions', ascending=False).head(3)\n",
    "# result2 = result.sort_values('films', ascending=False).reset_index(drop=True).head(1)\n",
    "display(result)\n",
    "key = result['park_attractions'].tolist()\n"
   ]
  },
  {
   "cell_type": "code",
   "execution_count": 138,
   "metadata": {},
   "outputs": [
    {
     "data": {
      "text/plain": [
       "'Tower of Terror'"
      ]
     },
     "metadata": {},
     "output_type": "display_data"
    }
   ],
   "source": [
    "display(df['park_attractions'].max()) # Tower of Terror\n"
   ]
  },
  {
   "cell_type": "code",
   "execution_count": 141,
   "metadata": {},
   "outputs": [
    {
     "data": {
      "text/html": [
       "<div>\n",
       "<style scoped>\n",
       "    .dataframe tbody tr th:only-of-type {\n",
       "        vertical-align: middle;\n",
       "    }\n",
       "\n",
       "    .dataframe tbody tr th {\n",
       "        vertical-align: top;\n",
       "    }\n",
       "\n",
       "    .dataframe thead th {\n",
       "        text-align: right;\n",
       "    }\n",
       "</style>\n",
       "<table border=\"1\" class=\"dataframe\">\n",
       "  <thead>\n",
       "    <tr style=\"text-align: right;\">\n",
       "      <th></th>\n",
       "      <th>park_attractions</th>\n",
       "      <th>count</th>\n",
       "    </tr>\n",
       "  </thead>\n",
       "  <tbody>\n",
       "    <tr>\n",
       "      <th>0</th>\n",
       "      <td></td>\n",
       "      <td>46</td>\n",
       "    </tr>\n",
       "    <tr>\n",
       "      <th>1</th>\n",
       "      <td>The Disney Afternoon Live!: Plane Crazy, Micke...</td>\n",
       "      <td>1</td>\n",
       "    </tr>\n",
       "    <tr>\n",
       "      <th>2</th>\n",
       "      <td>The Haunted Mansion</td>\n",
       "      <td>1</td>\n",
       "    </tr>\n",
       "    <tr>\n",
       "      <th>3</th>\n",
       "      <td>Tortuga Tavern</td>\n",
       "      <td>1</td>\n",
       "    </tr>\n",
       "    <tr>\n",
       "      <th>4</th>\n",
       "      <td>Tower of Terror</td>\n",
       "      <td>1</td>\n",
       "    </tr>\n",
       "  </tbody>\n",
       "</table>\n",
       "</div>"
      ],
      "text/plain": [
       "                                    park_attractions  count\n",
       "0                                                        46\n",
       "1  The Disney Afternoon Live!: Plane Crazy, Micke...      1\n",
       "2                                The Haunted Mansion      1\n",
       "3                                     Tortuga Tavern      1\n",
       "4                                    Tower of Terror      1"
      ]
     },
     "execution_count": 141,
     "metadata": {},
     "output_type": "execute_result"
    }
   ],
   "source": [
    "df.groupby(['park_attractions']).size().reset_index(name='count')"
   ]
  },
  {
   "cell_type": "code",
   "execution_count": 142,
   "metadata": {},
   "outputs": [
    {
     "data": {
      "text/html": [
       "<div>\n",
       "<style scoped>\n",
       "    .dataframe tbody tr th:only-of-type {\n",
       "        vertical-align: middle;\n",
       "    }\n",
       "\n",
       "    .dataframe tbody tr th {\n",
       "        vertical-align: top;\n",
       "    }\n",
       "\n",
       "    .dataframe thead th {\n",
       "        text-align: right;\n",
       "    }\n",
       "</style>\n",
       "<table border=\"1\" class=\"dataframe\">\n",
       "  <thead>\n",
       "    <tr style=\"text-align: right;\">\n",
       "      <th></th>\n",
       "      <th>names</th>\n",
       "      <th>tv_shows</th>\n",
       "      <th>films</th>\n",
       "      <th>shortFilms</th>\n",
       "      <th>allies</th>\n",
       "      <th>enemies</th>\n",
       "    </tr>\n",
       "    <tr>\n",
       "      <th>park_attractions</th>\n",
       "      <th></th>\n",
       "      <th></th>\n",
       "      <th></th>\n",
       "      <th></th>\n",
       "      <th></th>\n",
       "      <th></th>\n",
       "    </tr>\n",
       "  </thead>\n",
       "  <tbody>\n",
       "    <tr>\n",
       "      <th></th>\n",
       "      <td>46</td>\n",
       "      <td>46</td>\n",
       "      <td>46</td>\n",
       "      <td>46</td>\n",
       "      <td>46</td>\n",
       "      <td>46</td>\n",
       "    </tr>\n",
       "    <tr>\n",
       "      <th>The Disney Afternoon Live!: Plane Crazy, Mickey's Magical TV World, Fantasmic!, It's a Small World, Mickey Mouse Revue, Celebrate a Dreams Come True Parade, Mickey's Jammin' Jungle Parade, Mickey's Jingle Jungle Parade, Disney Stars and Motorcars Parade, Parade of the Stars, World of Color, Mickey and the Wondrous Book, La Forêt de l'Enchantement: Une aventure musicale Disney, Happily Ever After (fireworks show)</th>\n",
       "      <td>1</td>\n",
       "      <td>1</td>\n",
       "      <td>1</td>\n",
       "      <td>1</td>\n",
       "      <td>1</td>\n",
       "      <td>1</td>\n",
       "    </tr>\n",
       "    <tr>\n",
       "      <th>The Haunted Mansion</th>\n",
       "      <td>1</td>\n",
       "      <td>1</td>\n",
       "      <td>1</td>\n",
       "      <td>1</td>\n",
       "      <td>1</td>\n",
       "      <td>1</td>\n",
       "    </tr>\n",
       "    <tr>\n",
       "      <th>Tortuga Tavern</th>\n",
       "      <td>1</td>\n",
       "      <td>1</td>\n",
       "      <td>1</td>\n",
       "      <td>1</td>\n",
       "      <td>1</td>\n",
       "      <td>1</td>\n",
       "    </tr>\n",
       "    <tr>\n",
       "      <th>Tower of Terror</th>\n",
       "      <td>1</td>\n",
       "      <td>1</td>\n",
       "      <td>1</td>\n",
       "      <td>1</td>\n",
       "      <td>1</td>\n",
       "      <td>1</td>\n",
       "    </tr>\n",
       "  </tbody>\n",
       "</table>\n",
       "</div>"
      ],
      "text/plain": [
       "                                                    names  tv_shows  films  \\\n",
       "park_attractions                                                             \n",
       "                                                       46        46     46   \n",
       "The Disney Afternoon Live!: Plane Crazy, Mickey...      1         1      1   \n",
       "The Haunted Mansion                                     1         1      1   \n",
       "Tortuga Tavern                                          1         1      1   \n",
       "Tower of Terror                                         1         1      1   \n",
       "\n",
       "                                                    shortFilms  allies  \\\n",
       "park_attractions                                                         \n",
       "                                                            46      46   \n",
       "The Disney Afternoon Live!: Plane Crazy, Mickey...           1       1   \n",
       "The Haunted Mansion                                          1       1   \n",
       "Tortuga Tavern                                               1       1   \n",
       "Tower of Terror                                              1       1   \n",
       "\n",
       "                                                    enemies  \n",
       "park_attractions                                             \n",
       "                                                         46  \n",
       "The Disney Afternoon Live!: Plane Crazy, Mickey...        1  \n",
       "The Haunted Mansion                                       1  \n",
       "Tortuga Tavern                                            1  \n",
       "Tower of Terror                                           1  "
      ]
     },
     "execution_count": 142,
     "metadata": {},
     "output_type": "execute_result"
    }
   ],
   "source": [
    "df.groupby(['park_attractions']).count()"
   ]
  },
  {
   "cell_type": "code",
   "execution_count": 152,
   "metadata": {},
   "outputs": [
    {
     "data": {
      "text/html": [
       "<div>\n",
       "<style scoped>\n",
       "    .dataframe tbody tr th:only-of-type {\n",
       "        vertical-align: middle;\n",
       "    }\n",
       "\n",
       "    .dataframe tbody tr th {\n",
       "        vertical-align: top;\n",
       "    }\n",
       "\n",
       "    .dataframe thead th {\n",
       "        text-align: right;\n",
       "    }\n",
       "</style>\n",
       "<table border=\"1\" class=\"dataframe\">\n",
       "  <thead>\n",
       "    <tr style=\"text-align: right;\">\n",
       "      <th></th>\n",
       "      <th>names</th>\n",
       "      <th>tv_shows</th>\n",
       "      <th>films</th>\n",
       "      <th>shortFilms</th>\n",
       "      <th>allies</th>\n",
       "      <th>enemies</th>\n",
       "      <th>park_attractions</th>\n",
       "    </tr>\n",
       "  </thead>\n",
       "  <tbody>\n",
       "    <tr>\n",
       "      <th>count</th>\n",
       "      <td>50</td>\n",
       "      <td>50</td>\n",
       "      <td>50</td>\n",
       "      <td>50</td>\n",
       "      <td>50</td>\n",
       "      <td>50</td>\n",
       "      <td>50</td>\n",
       "    </tr>\n",
       "    <tr>\n",
       "      <th>unique</th>\n",
       "      <td>50</td>\n",
       "      <td>22</td>\n",
       "      <td>21</td>\n",
       "      <td>1</td>\n",
       "      <td>1</td>\n",
       "      <td>1</td>\n",
       "      <td>5</td>\n",
       "    </tr>\n",
       "    <tr>\n",
       "      <th>top</th>\n",
       "      <td>Achilles</td>\n",
       "      <td></td>\n",
       "      <td></td>\n",
       "      <td></td>\n",
       "      <td></td>\n",
       "      <td></td>\n",
       "      <td></td>\n",
       "    </tr>\n",
       "    <tr>\n",
       "      <th>freq</th>\n",
       "      <td>1</td>\n",
       "      <td>26</td>\n",
       "      <td>28</td>\n",
       "      <td>50</td>\n",
       "      <td>50</td>\n",
       "      <td>50</td>\n",
       "      <td>46</td>\n",
       "    </tr>\n",
       "  </tbody>\n",
       "</table>\n",
       "</div>"
      ],
      "text/plain": [
       "           names tv_shows films shortFilms allies enemies park_attractions\n",
       "count         50       50    50         50     50      50               50\n",
       "unique        50       22    21          1      1       1                5\n",
       "top     Achilles                                                          \n",
       "freq           1       26    28         50     50      50               46"
      ]
     },
     "execution_count": 152,
     "metadata": {},
     "output_type": "execute_result"
    }
   ],
   "source": [
    "result = df.describe()\n",
    "result"
   ]
  },
  {
   "cell_type": "code",
   "execution_count": 148,
   "metadata": {},
   "outputs": [
    {
     "data": {
      "text/html": [
       "<div>\n",
       "<style scoped>\n",
       "    .dataframe tbody tr th:only-of-type {\n",
       "        vertical-align: middle;\n",
       "    }\n",
       "\n",
       "    .dataframe tbody tr th {\n",
       "        vertical-align: top;\n",
       "    }\n",
       "\n",
       "    .dataframe thead th {\n",
       "        text-align: right;\n",
       "    }\n",
       "</style>\n",
       "<table border=\"1\" class=\"dataframe\">\n",
       "  <thead>\n",
       "    <tr style=\"text-align: right;\">\n",
       "      <th></th>\n",
       "      <th>names</th>\n",
       "      <th>tv_shows</th>\n",
       "      <th>films</th>\n",
       "      <th>shortFilms</th>\n",
       "      <th>allies</th>\n",
       "      <th>enemies</th>\n",
       "      <th>park_attractions</th>\n",
       "    </tr>\n",
       "  </thead>\n",
       "  <tbody>\n",
       "  </tbody>\n",
       "</table>\n",
       "</div>"
      ],
      "text/plain": [
       "Empty DataFrame\n",
       "Columns: [names, tv_shows, films, shortFilms, allies, enemies, park_attractions]\n",
       "Index: []"
      ]
     },
     "metadata": {},
     "output_type": "display_data"
    }
   ],
   "source": []
  }
 ],
 "metadata": {
  "kernelspec": {
   "display_name": "Python 3",
   "language": "python",
   "name": "python3"
  },
  "language_info": {
   "codemirror_mode": {
    "name": "ipython",
    "version": 3
   },
   "file_extension": ".py",
   "mimetype": "text/x-python",
   "name": "python",
   "nbconvert_exporter": "python",
   "pygments_lexer": "ipython3",
   "version": "3.9.6"
  },
  "orig_nbformat": 4
 },
 "nbformat": 4,
 "nbformat_minor": 2
}
