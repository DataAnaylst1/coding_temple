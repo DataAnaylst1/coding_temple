{
  "cells": [
    {
      "attachments": {},
      "cell_type": "markdown",
      "metadata": {
        "id": "ZvNsvUNNlZbi"
      },
      "source": [
        "# Coding Temple's Data Analytics Program  \n",
        "---\n",
        "# Advanced Python - Intro to `numpy`\n",
        "---\n",
        "\n"
      ]
    },
    {
      "attachments": {},
      "cell_type": "markdown",
      "metadata": {
        "id": "xMq6Of2Gt24o"
      },
      "source": [
        "## Part 1: Working with `numpy`\n"
      ]
    },
    {
      "attachments": {},
      "cell_type": "markdown",
      "metadata": {
        "id": "76eJSGb5gwtY"
      },
      "source": [
        "### 1.1 Importing `numpy`\n",
        "\n",
        "We've already used the `numpy` package by importing it and assigning it the standard alias of `np`. Do this again in the following cell - the more you practice typing these lines of code, the easier it will be to remember."
      ]
    },
    {
      "cell_type": "code",
      "execution_count": 1,
      "metadata": {
        "id": "h3r0IvHVuGJb"
      },
      "outputs": [],
      "source": [
        "import numpy as np"
      ]
    },
    {
      "attachments": {},
      "cell_type": "markdown",
      "metadata": {},
      "source": [
        "### 1.1 Solution - Run this cell to check your answer in 1.1. Please do not edit the values in this cell!"
      ]
    },
    {
      "cell_type": "code",
      "execution_count": 2,
      "metadata": {},
      "outputs": [],
      "source": [
        "# DO NOT EDIT THIS CELL\n",
        "assert np.__name__ == 'numpy', 'Make sure that you have properly imported numpy and aliased it as np!'"
      ]
    },
    {
      "attachments": {},
      "cell_type": "markdown",
      "metadata": {
        "id": "DvYie7qokbDH"
      },
      "source": [
        "### 1.2 Generate random numbers\n",
        "\n",
        "Create a `(5,3)` `numpy` array of random integer values between 0 and 100.\n",
        "\n",
        "Use the the `random()` method in numpy to generate these integers. Name your new variable `myarray`. You should also print the array to check it's dimensions and values."
      ]
    },
    {
      "cell_type": "code",
      "execution_count": 5,
      "metadata": {
        "colab": {
          "base_uri": "https://localhost:8080/"
        },
        "id": "UNJo_50VktRs",
        "outputId": "201f35e8-cd05-451c-aee4-de9b6e2ad93c"
      },
      "outputs": [
        {
          "name": "stdout",
          "output_type": "stream",
          "text": [
            "[[37 12 72]\n",
            " [ 9 75  5]\n",
            " [79 64 16]\n",
            " [ 1 76 71]\n",
            " [ 6 25 50]]\n"
          ]
        }
      ],
      "source": [
        "# Generate your random numbers\n",
        "np.random.seed(1) #Seed generated for reproducibility\n",
        "myarray = np.random.randint(0,100, (5,3))\n",
        "\n",
        "print(myarray)\n",
        "\n"
      ]
    },
    {
      "attachments": {},
      "cell_type": "markdown",
      "metadata": {},
      "source": [
        "### 1.2 Solution - Run the following cell to check your answer."
      ]
    },
    {
      "cell_type": "code",
      "execution_count": 6,
      "metadata": {},
      "outputs": [],
      "source": [
        "#DO NOT EDIT THIS CELL\n",
        "\n",
        "#Verify the array was created with the correct name and has the proper shape\n",
        "assert myarray.shape == (5,3), 'Make sure you create an array with the proper shape!'"
      ]
    },
    {
      "attachments": {},
      "cell_type": "markdown",
      "metadata": {},
      "source": [
        "### 1.3 Calculate BMI \n",
        "\n",
        "Using the two lists provided, please calculate the BMI(body mass index) of each individual using NDArrays. Save the variable containing your results as `bmi`\n",
        "\n",
        "The formula for BMI in pounds and inches can be defined as: $BMI= \\frac{703 * weight} {(height)^2}$"
      ]
    },
    {
      "cell_type": "code",
      "execution_count": 7,
      "metadata": {},
      "outputs": [
        {
          "data": {
            "text/plain": [
              "array([39.51,  8.79, 16.49, 14.06])"
            ]
          },
          "execution_count": 7,
          "metadata": {},
          "output_type": "execute_result"
        }
      ],
      "source": [
        "height = [55, 120, 90, 100]\n",
        "weight = [170, 180, 190, 200]\n",
        "\n",
        "bmi =(np.round(703*(np.array(weight))/(np.array(height)**2),2))\n",
        "bmi"
      ]
    },
    {
      "attachments": {},
      "cell_type": "markdown",
      "metadata": {},
      "source": [
        "### 1.3 Solution: Run the following cell to check your answer."
      ]
    },
    {
      "cell_type": "code",
      "execution_count": 8,
      "metadata": {},
      "outputs": [],
      "source": [
        "assert 'bmi' in dir() , 'Make sure you have saved your results to the proper variable name!'\n",
        "assert type(bmi) == np.ndarray, 'Make sure that you made the calculation using an NDArray for both height and weight!'"
      ]
    },
    {
      "attachments": {},
      "cell_type": "markdown",
      "metadata": {},
      "source": [
        "### 1.4 Create a function \n",
        "\n",
        "Create a function named `my_func` that will take in two parameters and will create a random matrix based off of those parameters. Extra: Have additional parameters taken in that allow the user to choose the shape and data type of the matrix."
      ]
    },
    {
      "cell_type": "code",
      "execution_count": 15,
      "metadata": {},
      "outputs": [
        {
          "data": {
            "text/plain": [
              "array([[30, 71,  3],\n",
              "       [70, 21, 49],\n",
              "       [57,  3, 68],\n",
              "       [24, 43, 76],\n",
              "       [26, 52, 80]])"
            ]
          },
          "execution_count": 15,
          "metadata": {},
          "output_type": "execute_result"
        }
      ],
      "source": [
        "def my_func( start, stop, shape):\n",
        "    my_fun_array = (np.random.randint(start, stop, shape))\n",
        "    return my_fun_array\n",
        "\n",
        "\n",
        "my_new_array = my_func(0,100, (5,3))\n",
        "my_new_array\n",
        "\n"
      ]
    },
    {
      "attachments": {},
      "cell_type": "markdown",
      "metadata": {
        "id": "CYy4Zp5pk7tS"
      },
      "source": [
        "### 1.5 Array practice\n",
        "\n",
        "Time for some more practice. Run each of these tasks in the separate code cell listed below:\n",
        "\n",
        "1.  Return the first row\n",
        "2.  Return the last column\n",
        "3.  Return the third column values from the 4th and 5th rows\n",
        "4.  Multiply every value in the array by 2\n",
        "5.  Divide every value by 3\n",
        "6.  Increase the values in the first row by 12\n",
        "7. Calculate the mean of the first column\n",
        "8. Calculate the median of the array _after_ removing the 2 smallest values in the array\n",
        "9. Calculate the standard deviation of the first 3 rows\n",
        "10. Return values greater than 25 in the second column\n",
        "11. Return values less than 40 in the array"
      ]
    },
    {
      "cell_type": "code",
      "execution_count": 14,
      "metadata": {
        "colab": {
          "base_uri": "https://localhost:8080/"
        },
        "id": "lIxLoTfGl910",
        "outputId": "126ce770-41b6-42ab-eab5-26071a027979"
      },
      "outputs": [
        {
          "data": {
            "text/plain": [
              "array([ 9,  7, 63])"
            ]
          },
          "execution_count": 14,
          "metadata": {},
          "output_type": "execute_result"
        }
      ],
      "source": [
        "# 1. Return the first row:\n",
        "my_new_array[0]\n"
      ]
    },
    {
      "cell_type": "code",
      "execution_count": 23,
      "metadata": {
        "colab": {
          "base_uri": "https://localhost:8080/"
        },
        "id": "lMafok6zoGB-",
        "outputId": "df874775-ac9e-42de-c305-fd7e13afc98b"
      },
      "outputs": [
        {
          "data": {
            "text/plain": [
              "array([ 3, 49, 68, 76, 80])"
            ]
          },
          "execution_count": 23,
          "metadata": {},
          "output_type": "execute_result"
        }
      ],
      "source": [
        "# 2. Return the last column\n",
        "my_new_array[:,-1]\n"
      ]
    },
    {
      "cell_type": "code",
      "execution_count": 24,
      "metadata": {
        "colab": {
          "base_uri": "https://localhost:8080/"
        },
        "id": "TEpRarEbobjz",
        "outputId": "0adb6634-385c-47a4-f01e-1b8add2518d1"
      },
      "outputs": [
        {
          "data": {
            "text/plain": [
              "array([76, 80])"
            ]
          },
          "execution_count": 24,
          "metadata": {},
          "output_type": "execute_result"
        }
      ],
      "source": [
        "# 3. Return the third column values from the 4th and 5th rows\n",
        "my_new_array[3:5,2]\n"
      ]
    },
    {
      "cell_type": "code",
      "execution_count": 25,
      "metadata": {
        "colab": {
          "base_uri": "https://localhost:8080/"
        },
        "id": "6nR51YtPpdKo",
        "outputId": "244aec23-e37a-4bca-d8fb-43b3744f3c4d"
      },
      "outputs": [
        {
          "data": {
            "text/plain": [
              "array([[ 60, 142,   6],\n",
              "       [140,  42,  98],\n",
              "       [114,   6, 136],\n",
              "       [ 48,  86, 152],\n",
              "       [ 52, 104, 160]])"
            ]
          },
          "execution_count": 25,
          "metadata": {},
          "output_type": "execute_result"
        }
      ],
      "source": [
        "# 4. Multiply every value in the array by 2\n",
        "my_new_array*2"
      ]
    },
    {
      "cell_type": "code",
      "execution_count": 26,
      "metadata": {
        "colab": {
          "base_uri": "https://localhost:8080/"
        },
        "id": "6Nr8BqCVpfr1",
        "outputId": "a3616032-2853-41a8-c941-b5a8be43f70f"
      },
      "outputs": [
        {
          "data": {
            "text/plain": [
              "array([[10.        , 23.66666667,  1.        ],\n",
              "       [23.33333333,  7.        , 16.33333333],\n",
              "       [19.        ,  1.        , 22.66666667],\n",
              "       [ 8.        , 14.33333333, 25.33333333],\n",
              "       [ 8.66666667, 17.33333333, 26.66666667]])"
            ]
          },
          "execution_count": 26,
          "metadata": {},
          "output_type": "execute_result"
        }
      ],
      "source": [
        "# 5. Divide every value by 3\n",
        "my_new_array/3"
      ]
    },
    {
      "cell_type": "code",
      "execution_count": 32,
      "metadata": {
        "colab": {
          "base_uri": "https://localhost:8080/"
        },
        "id": "5ejUOn2gptcV",
        "outputId": "921e3aab-2cf7-4a46-8581-5fdb1fb69da1"
      },
      "outputs": [
        {
          "data": {
            "text/plain": [
              "array([[42, 83, 15]])"
            ]
          },
          "execution_count": 32,
          "metadata": {},
          "output_type": "execute_result"
        }
      ],
      "source": [
        "# 6. Increase the values in the first row by 12\n",
        "my_new_array[:1]+12"
      ]
    },
    {
      "cell_type": "code",
      "execution_count": 44,
      "metadata": {
        "colab": {
          "base_uri": "https://localhost:8080/"
        },
        "id": "o-q-n6rzpunI",
        "outputId": "0783e4fc-2bc5-4480-e62d-90fdd33c73e2"
      },
      "outputs": [
        {
          "data": {
            "text/plain": [
              "array([ 6. , 14. , 11.4,  4.8,  5.2])"
            ]
          },
          "execution_count": 44,
          "metadata": {},
          "output_type": "execute_result"
        }
      ],
      "source": [
        "# 7. Calculate the mean of the first column\n",
        "my_new_array[:,0]/5"
      ]
    },
    {
      "cell_type": "code",
      "execution_count": 45,
      "metadata": {
        "colab": {
          "base_uri": "https://localhost:8080/"
        },
        "id": "izVdnwnLpuuY",
        "outputId": "11965467-d665-416e-a4ec-883745aa668f"
      },
      "outputs": [
        {
          "name": "stdout",
          "output_type": "stream",
          "text": [
            "52.0\n",
            "49.0\n"
          ]
        }
      ],
      "source": [
        "# 8. Calculate the median of the array after removing the 2 smallest values in the array\n",
        "my_new_array1=np.sort(my_new_array[:,:])\n",
        "print(np.median(my_new_array[2:]))\n",
        "print(np.median(my_new_array))"
      ]
    },
    {
      "cell_type": "code",
      "execution_count": 47,
      "metadata": {
        "colab": {
          "base_uri": "https://localhost:8080/"
        },
        "id": "1WCDKp2xrzK9",
        "outputId": "74aca405-d2d6-4ec6-e983-a438a8aec81f"
      },
      "outputs": [
        {
          "name": "stdout",
          "output_type": "stream",
          "text": [
            "9.226906440900752\n",
            "[[21 14 28]\n",
            " [24 17 13]\n",
            " [40 37 17]\n",
            " [27 37 32]\n",
            " [26 43  9]]\n"
          ]
        }
      ],
      "source": [
        "# 9. Calculate the standard deviation of the first 3 rows\n",
        "# Generate a new array to work on\n",
        "np.random.seed(2) # New seed for new array\n",
        "new_array = my_func(6,45, (5,3))\n",
        "Stdarray =np.std(new_array[0:3,:])\n",
        "print(Stdarray)\n",
        "print(new_array)"
      ]
    },
    {
      "cell_type": "code",
      "execution_count": 50,
      "metadata": {
        "colab": {
          "base_uri": "https://localhost:8080/"
        },
        "id": "zb7aXd3xry3r",
        "outputId": "e6f81b8a-1cb1-4c9f-a734-a8471a8f7961"
      },
      "outputs": [
        {
          "name": "stdout",
          "output_type": "stream",
          "text": [
            "[[40 37 17]\n",
            " [27 37 32]\n",
            " [26 43  9]]\n"
          ]
        }
      ],
      "source": [
        "# 10. Return values in the second column greater than 25\n",
        "second_column = new_array[:,1]> 25\n",
        "\n",
        "print(new_array[second_column])"
      ]
    },
    {
      "cell_type": "code",
      "execution_count": 51,
      "metadata": {
        "colab": {
          "base_uri": "https://localhost:8080/"
        },
        "id": "IZ8HYk95ocDE",
        "outputId": "8d047861-9abd-4138-ce5c-366821ca933c"
      },
      "outputs": [
        {
          "name": "stdout",
          "output_type": "stream",
          "text": [
            "[21 14 28 24 17 13 37 17 27 37 32 26  9]\n"
          ]
        }
      ],
      "source": [
        "# 11. Return values < 40 in the array\n",
        "second_column = new_array<40\n",
        "print(new_array[second_column])"
      ]
    },
    {
      "cell_type": "code",
      "execution_count": null,
      "metadata": {},
      "outputs": [],
      "source": []
    },
    {
      "attachments": {},
      "cell_type": "markdown",
      "metadata": {
        "id": "6Xwf9ZDLX_xp"
      },
      "source": [
        "### Solution 1.5: Run the following cell to view the solution for each of the above tasks.\n",
        "\n",
        "A new array will be generated to demonstrate the solution - the values will not be the same as your array. But the code for each task will still apply."
      ]
    },
    {
      "cell_type": "code",
      "execution_count": 52,
      "metadata": {
        "colab": {
          "base_uri": "https://localhost:8080/"
        },
        "id": "15P0nIbqY8vi",
        "outputId": "f0aa2414-b800-48de-c300-d3763e4eb9fc"
      },
      "outputs": [
        {
          "name": "stdout",
          "output_type": "stream",
          "text": [
            "The generated array: \n",
            " [[ 4 42 51]\n",
            " [38 33 58]\n",
            " [67 69 88]\n",
            " [68 46 70]\n",
            " [95 83 31]]\n",
            "\n",
            "\n",
            "1. The first row:  [ 4 42 51]\n",
            "\n",
            "\n",
            "2. The last column:  [51 58 88 70 31]\n",
            "\n",
            "\n",
            "3. The 3rd column, 4th & 5th rows:  [70 31]\n",
            "\n",
            "\n",
            "4. Multiply by 2: \n",
            " [[  8  84 102]\n",
            " [ 76  66 116]\n",
            " [134 138 176]\n",
            " [136  92 140]\n",
            " [190 166  62]]\n",
            "\n",
            "\n",
            "5. Divide by 3: \n",
            " [[ 1.33333333 14.         17.        ]\n",
            " [12.66666667 11.         19.33333333]\n",
            " [22.33333333 23.         29.33333333]\n",
            " [22.66666667 15.33333333 23.33333333]\n",
            " [31.66666667 27.66666667 10.33333333]]\n",
            "\n",
            "\n",
            "6. Add 12 to the first row: \n",
            " [16 54 63]\n",
            "\n",
            "\n",
            "7. The mean of the 1st column:  54.4\n",
            "\n",
            "\n",
            "8. The median after removing the 2 smallest values:  67.0\n",
            "\n",
            "\n",
            "9. The standard deviation is:  24.077549606671532\n",
            "\n",
            "\n",
            "10. All values in 2nd column > 25: \n",
            " [[66 80 52]\n",
            " [76 50  4]\n",
            " [90 63 79]\n",
            " [49 39 46]\n",
            " [ 8 50 15]]\n",
            "\n",
            "\n",
            "11. All values < 40: \n",
            " [ 4 39  8 15]\n"
          ]
        }
      ],
      "source": [
        "# DO NOT EDIT THIS CELL\n",
        "# SOLUTION 1.3\n",
        "\n",
        "# SOLUTION: Make sure you have completed all of the above tasks\n",
        "# Generate your random numbers (NEW ARRAY)\n",
        "myarray = np.random.randint(100, size=(5, 3))\n",
        "print('The generated array: \\n', myarray)\n",
        "print('\\n')\n",
        "\n",
        "# 1. Return the first row:\n",
        "print('1. The first row: ', myarray[0])\n",
        "print('\\n')\n",
        "\n",
        "# 2. Return the last column\n",
        "print('2. The last column: ', myarray[:,-1])\n",
        "print('\\n')\n",
        "\n",
        "# 3. Return the third column values from the 4th and 5th rows\n",
        "print('3. The 3rd column, 4th & 5th rows: ', myarray[3:5,2])\n",
        "print('\\n')\n",
        "\n",
        "# 4. Multiply every value in the array by 2\n",
        "# (operates on the original array)\n",
        "print('4. Multiply by 2: \\n', myarray * 2)\n",
        "print('\\n')\n",
        "\n",
        "# 5. Divide every value by 3\n",
        "# (operates on the original array)\n",
        "print('5. Divide by 3: \\n', myarray / 3)\n",
        "print('\\n')\n",
        "\n",
        "# 6. Increase the values in the first row by 12\n",
        "# (operates on the original array)\n",
        "print('6. Add 12 to the first row: \\n', myarray[0,:] + 12)\n",
        "print('\\n')\n",
        "\n",
        "# 7. Calculate the mean of the first column\n",
        "print('7. The mean of the 1st column: ', myarray[:,0].mean())\n",
        "print('\\n')\n",
        "\n",
        "# 8. Calculate the median of the array after removing the 2 smallest values in the array\n",
        "# flatten and sort (axis=None does the flattening)\n",
        "myarray = np.sort(myarray, axis=None)\n",
        "# remove two smallest values\n",
        "myarray = myarray[2:]\n",
        "# calculate the median\n",
        "print('8. The median after removing the 2 smallest values: ', np.median(myarray))\n",
        "print('\\n')\n",
        "\n",
        "# 9. Calculate the standard deviation of the first 3 rows\n",
        "# Generate new array first:\n",
        "myarray = np.random.randint(100, size=(5, 3))\n",
        "# Then calculate the std:\n",
        "print('9. The standard deviation is: ', np.std(myarray[0:3,:]))\n",
        "print('\\n')\n",
        "\n",
        "# 10. Return values in the second column greater than 25\n",
        "# create a Boolean mask where values in the 2nd column > 25 are True\n",
        "condition = myarray[:,1] > 25\n",
        "# Apply the mask\n",
        "print('10. All values in 2nd column > 25: \\n', myarray[condition])\n",
        "print('\\n')\n",
        "\n",
        "# 11. Return values < 40 in the array\n",
        "# create another Boolean mask for values < 40\n",
        "condition = myarray < 40\n",
        "# apply the mask\n",
        "print('11. All values < 40: \\n', myarray[condition])"
      ]
    }
  ],
  "metadata": {
    "colab": {
      "provenance": []
    },
    "kernelspec": {
      "display_name": "Python 3",
      "language": "python",
      "name": "python3"
    },
    "language_info": {
      "codemirror_mode": {
        "name": "ipython",
        "version": 3
      },
      "file_extension": ".py",
      "mimetype": "text/x-python",
      "name": "python",
      "nbconvert_exporter": "python",
      "pygments_lexer": "ipython3",
      "version": "3.9.6"
    },
    "vscode": {
      "interpreter": {
        "hash": "26de051ba29f2982a8de78e945f0abaf191376122a1563185a90213a26c5da77"
      }
    }
  },
  "nbformat": 4,
  "nbformat_minor": 0
}
