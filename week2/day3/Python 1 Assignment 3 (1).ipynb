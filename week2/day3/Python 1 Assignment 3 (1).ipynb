{
 "cells": [
  {
   "attachments": {},
   "cell_type": "markdown",
   "metadata": {},
   "source": [
    "# Coding Temple's Data Analytics Program\n",
    "---\n",
    "## Python 1 Assignment 3\n",
    "---"
   ]
  },
  {
   "attachments": {},
   "cell_type": "markdown",
   "metadata": {},
   "source": [
    "### **Task 1: Build a Shopping Cart**\n",
    "**You can use either lists or dictionaries. The program should have the following capabilites:**\n",
    "* Takes a string as an input\n",
    "* Stores user input in a dictionary or list\n",
    "* Users should be able to:\n",
    "    * Add Items\n",
    "    * Delete Items\n",
    "    * See current shopping cart\n",
    "* The program should loop until user 'quits'\n",
    "* Upon quitting the program, print out all items in the user's list"
   ]
  },
  {
   "cell_type": "code",
   "execution_count": 1,
   "metadata": {},
   "outputs": [
    {
     "name": "stdout",
     "output_type": "stream",
     "text": [
      "['', '']\n",
      "['', '']\n"
     ]
    }
   ],
   "source": [
    "from IPython.display import clear_output\n",
    "\n",
    "# Ask the user 5 bits of input: Do you want to : Show/Add/Delete/clear or Quit?\n",
    "# YOUR CODE HERE\n",
    "shopping_cart = []\n",
    "\n",
    "def items(cart: list):\n",
    "    \n",
    "    \n",
    "    while True:\n",
    "        response = input(\"Would you like to add, delete, or view to your cart?\\n Type 'quits' to quit.\")\n",
    "        if response.lower() == 'add':\n",
    "            response.lower() == input(\"What would you like to add?\")\n",
    "            shopping_cart.append(response)\n",
    "            input(f\"{response} has been successfully added to your cart!\")\n",
    "        elif response.lower() == 'view':\n",
    "            print(shopping_cart)\n",
    "        elif response.lower() == 'delete':\n",
    "            print(shopping_cart)\n",
    "            response = input(\"which item would you like to delete?\")\n",
    "            shopping_cart.remove(response)\n",
    "        elif response.lower() == 'add':\n",
    "            response == input(\"What would you like to add?\")\n",
    "            shopping_cart.append(response)\n",
    "        elif response.lower() == 'quits':\n",
    "            return shopping_cart\n",
    "items(cart=shopping_cart)\n",
    "\n"
   ]
  },
  {
   "attachments": {},
   "cell_type": "markdown",
   "metadata": {},
   "source": [
    "### **Task 2: Create a Module and Import it**\n",
    "Create a Module in VS Code and import it into a Notebook. Use each of the functions you build in your module\n",
    "\n",
    "**Your module should have the following capabilities:**\n",
    "* Has a function to calculate the square footage of a house\n",
    "* Has a function to calculate the circumference of a circle\n",
    "* Has a function to change feet to inches"
   ]
  },
  {
   "cell_type": "code",
   "execution_count": 1,
   "metadata": {},
   "outputs": [],
   "source": [
    "from my_module import area_of_a_circle\n"
   ]
  },
  {
   "cell_type": "code",
   "execution_count": 2,
   "metadata": {},
   "outputs": [],
   "source": [
    "from my_module import square_footage_house"
   ]
  },
  {
   "cell_type": "code",
   "execution_count": 11,
   "metadata": {},
   "outputs": [],
   "source": [
    "from feet_to_inches import feet_to_inches"
   ]
  },
  {
   "attachments": {},
   "cell_type": "markdown",
   "metadata": {},
   "source": [
    "### **Task 3.1: Lists**\n",
    "Create 4 lists. Two of these lists should be keys, two of these lists should be values"
   ]
  },
  {
   "cell_type": "code",
   "execution_count": 13,
   "metadata": {},
   "outputs": [],
   "source": [
    "key1 = ['Kim','Thomas','Barb']\n",
    "key2 = ['Bill','James','Stephanie']\n",
    "value1 = ['Johnson','Williams','Keller']\n",
    "value2 = {'Evans','Lewis','Peters'}\n",
    "new_dict = {}\n",
    "new_dict2 = {}\n",
    "final_dict = {}"
   ]
  },
  {
   "attachments": {},
   "cell_type": "markdown",
   "metadata": {},
   "source": [
    "### **Task 3.2: Create a function that converts two lists into a dictionary, then merges two dictionaries into one.**\n",
    "\n",
    "Using your 4 lists, create a function which combines the keys lists with the values lists into a dictionary, then merges and returns the two dictionaries together."
   ]
  },
  {
   "cell_type": "code",
   "execution_count": 19,
   "metadata": {},
   "outputs": [],
   "source": [
    "\n",
    "def names(dictionary: dict):\n",
    "    for key1,key2 in dict:\n",
    "        new_dict[key1] = key2\n",
    "    for value1,value2 in dict:\n",
    "        new_dict2[value1] = value2\n",
    "\n",
    "\n",
    "    return new_dict, new_dict2"
   ]
  },
  {
   "cell_type": "code",
   "execution_count": null,
   "metadata": {},
   "outputs": [],
   "source": [
    "def one_dict(dictionary: dict):\n",
    "    for first,first in new_dict.items:\n",
    "        new_dict.append(final_dict)\n",
    "    for last,last in new_dict2.items:\n",
    "        new_dict2.append(final_dict)\n",
    "    return final_dict"
   ]
  }
 ],
 "metadata": {
  "kernelspec": {
   "display_name": "Python 3",
   "language": "python",
   "name": "python3"
  },
  "language_info": {
   "codemirror_mode": {
    "name": "ipython",
    "version": 3
   },
   "file_extension": ".py",
   "mimetype": "text/x-python",
   "name": "python",
   "nbconvert_exporter": "python",
   "pygments_lexer": "ipython3",
   "version": "3.9.6"
  },
  "orig_nbformat": 4,
  "vscode": {
   "interpreter": {
    "hash": "26de051ba29f2982a8de78e945f0abaf191376122a1563185a90213a26c5da77"
   }
  }
 },
 "nbformat": 4,
 "nbformat_minor": 2
}
