{
 "cells": [
  {
   "attachments": {},
   "cell_type": "markdown",
   "metadata": {
    "id": "giAbN1rzE1Ai"
   },
   "source": [
    "# Coding Temple's Data Analytics Program                                        \n",
    "---\n",
    "## Python I: Object-Oriented-Programming (OOP)\n",
    "---"
   ]
  },
  {
   "attachments": {},
   "cell_type": "markdown",
   "metadata": {
    "id": "gEt2hxqGE1An"
   },
   "source": [
    "## Tasks Today:\n",
    "\n",
    "   \n",
    "\n",
    "1) <b>Creating a Class (Initializing/Declaring)</b> <br>\n",
    "2) <b>Using a Class (Instantiating)</b> <br>\n",
    " &nbsp;&nbsp;&nbsp;&nbsp; a) Creating One Instance <br>\n",
    " &nbsp;&nbsp;&nbsp;&nbsp; b) Creating Multiple Instances <br>\n",
    " &nbsp;&nbsp;&nbsp;&nbsp; c) In-Class Exercise #1 - Create a Class 'Car' and instantiate three different makes of cars <br>\n",
    "3) <b>The \\__init\\__() Method</b> <br>\n",
    " &nbsp;&nbsp;&nbsp;&nbsp; a) The 'self' Attribute <br>\n",
    "4) <b>Class Attributes</b> <br>\n",
    " &nbsp;&nbsp;&nbsp;&nbsp; a) Initializing Attributes <br>\n",
    " &nbsp;&nbsp;&nbsp;&nbsp; b) Setting an Attribute Outside of the \\__init\\__() Method <br>\n",
    " &nbsp;&nbsp;&nbsp;&nbsp; c) Setting Defaults for Attributes <br>\n",
    " &nbsp;&nbsp;&nbsp;&nbsp; d) Accessing Class Attributes <br>\n",
    " &nbsp;&nbsp;&nbsp;&nbsp; e) Changing Class Attributes <br>\n",
    " &nbsp;&nbsp;&nbsp;&nbsp; f) In-Class Exercise #2 - Add a color and wheels attribute to your 'Car' class <br>\n",
    "5) <b>Class Methods</b> <br>\n",
    " &nbsp;&nbsp;&nbsp;&nbsp; a) Creating <br>\n",
    " &nbsp;&nbsp;&nbsp;&nbsp; b) Calling <br>\n",
    " &nbsp;&nbsp;&nbsp;&nbsp; c) Modifying an Attribute's Value Through a Method <br>\n",
    " &nbsp;&nbsp;&nbsp;&nbsp; d) Incrementing an Attribute's Value Through a Method <br>\n",
    " &nbsp;&nbsp;&nbsp;&nbsp; e) In-Class Exercise #3 - Add a method that prints the cars color and wheel number, then call them <br>"
   ]
  },
  {
   "attachments": {},
   "cell_type": "markdown",
   "metadata": {
    "id": "qgEWxaC0E1Ao"
   },
   "source": [
    "## Creating a Class (Initializing/Declaring)\n",
    "<p>When creating a class, function, or even a variable you are initializing that object. Initializing and Declaring occur at the same time in Python, whereas in lower level languages you have to declare an object before initializing it. This is the first step in the process of using a class.</p>"
   ]
  },
  {
   "cell_type": "code",
   "execution_count": null,
   "metadata": {
    "id": "KSw6qoU4E1Ap"
   },
   "outputs": [],
   "source": [
    "class CarClass:\n",
    "    wheels = 4\n",
    "    color = 'blue'\n",
    "    "
   ]
  },
  {
   "attachments": {},
   "cell_type": "markdown",
   "metadata": {
    "id": "Y0lj3nB3E1Aq"
   },
   "source": [
    "## Using a Class (Instantiating)\n",
    "<p>The process of creating a class is called <i>Instantiating</i>. Each time you create a variable of that type of class, it is referred to as an <i>Instance</i> of that class. This is the second step in the process of using a class.</p>"
   ]
  },
  {
   "attachments": {},
   "cell_type": "markdown",
   "metadata": {
    "id": "vc-gH2E1E1Ar"
   },
   "source": [
    "##### Creating One Instance"
   ]
  },
  {
   "cell_type": "code",
   "execution_count": null,
   "metadata": {
    "id": "rxPg5dy9E1As"
   },
   "outputs": [],
   "source": [
    "\n"
   ]
  },
  {
   "attachments": {},
   "cell_type": "markdown",
   "metadata": {},
   "source": [
    "#### Difference between a method/function and an attribute"
   ]
  },
  {
   "cell_type": "code",
   "execution_count": null,
   "metadata": {},
   "outputs": [],
   "source": []
  },
  {
   "cell_type": "code",
   "execution_count": null,
   "metadata": {},
   "outputs": [],
   "source": []
  },
  {
   "attachments": {},
   "cell_type": "markdown",
   "metadata": {
    "id": "mwkSVukCE1As"
   },
   "source": [
    "##### Creating Multiple Instances"
   ]
  },
  {
   "cell_type": "code",
   "execution_count": null,
   "metadata": {
    "id": "J-NBGcc1E1At"
   },
   "outputs": [],
   "source": []
  },
  {
   "cell_type": "code",
   "execution_count": null,
   "metadata": {},
   "outputs": [],
   "source": []
  },
  {
   "attachments": {},
   "cell_type": "markdown",
   "metadata": {
    "id": "orHPhAdCE1At"
   },
   "source": [
    "##### In-Class Exercise #1 - Create a Class 'Car' and Instantiate three different makes of cars"
   ]
  },
  {
   "cell_type": "code",
   "execution_count": 1,
   "metadata": {
    "id": "aSsTqQAFE1Au"
   },
   "outputs": [
    {
     "ename": "NameError",
     "evalue": "name 'Car' is not defined",
     "output_type": "error",
     "traceback": [
      "\u001b[0;31m---------------------------------------------------------------------------\u001b[0m",
      "\u001b[0;31mNameError\u001b[0m                                 Traceback (most recent call last)",
      "Cell \u001b[0;32mIn[1], line 1\u001b[0m\n\u001b[0;32m----> 1\u001b[0m \u001b[39mclass\u001b[39;00m \u001b[39mCar\u001b[39;00m:\n\u001b[1;32m      3\u001b[0m     honda \u001b[39m=\u001b[39m Car()\n\u001b[1;32m      4\u001b[0m     chevy \u001b[39m=\u001b[39m Car()\n",
      "Cell \u001b[0;32mIn[1], line 3\u001b[0m, in \u001b[0;36mCar\u001b[0;34m()\u001b[0m\n\u001b[1;32m      1\u001b[0m \u001b[39mclass\u001b[39;00m \u001b[39mCar\u001b[39;00m:\n\u001b[0;32m----> 3\u001b[0m     honda \u001b[39m=\u001b[39m Car()\n\u001b[1;32m      4\u001b[0m     chevy \u001b[39m=\u001b[39m Car()\n\u001b[1;32m      5\u001b[0m     toyota \u001b[39m=\u001b[39m Car()\n",
      "\u001b[0;31mNameError\u001b[0m: name 'Car' is not defined"
     ]
    }
   ],
   "source": [
    "class CarClass:\n",
    "    wheels = 4\n",
    "    color = 'blue'\n",
    "    \n",
    "    \n",
    "    honda = CarClass()\n",
    "    chevy = CarClass()\n",
    "    toyota = CarClass()\n",
    "\n",
    "    \n",
    "    \n"
   ]
  },
  {
   "cell_type": "code",
   "execution_count": null,
   "metadata": {},
   "outputs": [],
   "source": []
  },
  {
   "attachments": {},
   "cell_type": "markdown",
   "metadata": {},
   "source": [
    "#### Object ID's and Class Instantiations"
   ]
  },
  {
   "cell_type": "code",
   "execution_count": null,
   "metadata": {},
   "outputs": [],
   "source": []
  },
  {
   "attachments": {},
   "cell_type": "markdown",
   "metadata": {
    "id": "lJh0fFLME1Au"
   },
   "source": [
    "## The \\__init\\__() Method <br>\n",
    "<p>This method is used in almost every created class, and called only once upon the creation of the class instance. This method will initialize all variables needed for the object.</p>"
   ]
  },
  {
   "cell_type": "code",
   "execution_count": null,
   "metadata": {
    "id": "ef5s6vbaE1Au"
   },
   "outputs": [],
   "source": []
  },
  {
   "attachments": {},
   "cell_type": "markdown",
   "metadata": {
    "id": "YSCUixxTE1Av"
   },
   "source": [
    "##### The 'self' Attribute <br>\n",
    "<p>This attribute is required to keep track of specific instance's attributes. Without the self attribute, the program would not know how to reference or keep track of an instance's attributes.</p>"
   ]
  },
  {
   "cell_type": "code",
   "execution_count": null,
   "metadata": {
    "id": "8rfFnKp3E1Av"
   },
   "outputs": [],
   "source": []
  },
  {
   "attachments": {},
   "cell_type": "markdown",
   "metadata": {
    "id": "FHAW6utmE1Av"
   },
   "source": [
    "## Class Attributes <br>\n",
    "<p>While variables are inside of a class, they are referred to as attributes and not variables. When someone says 'attribute' you know they're speaking about a class. Attributes can be initialized through the init method, or outside of it.</p>"
   ]
  },
  {
   "attachments": {},
   "cell_type": "markdown",
   "metadata": {
    "id": "sf-B77pbE1Av"
   },
   "source": [
    "##### Initializing Attributes"
   ]
  },
  {
   "cell_type": "code",
   "execution_count": null,
   "metadata": {
    "id": "D2L5_hVdE1Av"
   },
   "outputs": [],
   "source": []
  },
  {
   "attachments": {},
   "cell_type": "markdown",
   "metadata": {
    "id": "8k0rnG1dE1Av"
   },
   "source": [
    "##### Accessing Class Attributes"
   ]
  },
  {
   "cell_type": "code",
   "execution_count": null,
   "metadata": {
    "id": "_PKUR78BE1Av",
    "scrolled": true
   },
   "outputs": [],
   "source": []
  },
  {
   "attachments": {},
   "cell_type": "markdown",
   "metadata": {
    "id": "0LG1jwWcE1Aw"
   },
   "source": [
    "##### Setting Defaults for Attributes"
   ]
  },
  {
   "attachments": {},
   "cell_type": "markdown",
   "metadata": {},
   "source": [
    "##### **INIT STANDS FOR INITIALIZATION!**\n",
    "When we call the class, we end up having to provide the values for the attributes of the init function. Which means, that this run AS SOON as we call the class"
   ]
  },
  {
   "cell_type": "code",
   "execution_count": null,
   "metadata": {
    "id": "jz0KEMHDE1Aw"
   },
   "outputs": [],
   "source": []
  },
  {
   "cell_type": "code",
   "execution_count": null,
   "metadata": {},
   "outputs": [],
   "source": []
  },
  {
   "attachments": {},
   "cell_type": "markdown",
   "metadata": {
    "id": "P7zeGxM0E1Aw"
   },
   "source": [
    "##### Changing Class Attributes <br>\n",
    "<p>Keep in mind there are global class attributes and then there are attributes only available to each class instance which won't effect other classes.</p>"
   ]
  },
  {
   "cell_type": "code",
   "execution_count": null,
   "metadata": {
    "id": "PJBegn_JE1Aw"
   },
   "outputs": [],
   "source": []
  },
  {
   "attachments": {},
   "cell_type": "markdown",
   "metadata": {
    "id": "dUUbmR3SE1Aw"
   },
   "source": [
    "##### In-Class Exercise #2 - Add a doors and seats attribute to your 'Car' class then print out two different instances with different doors and seats"
   ]
  },
  {
   "cell_type": "code",
   "execution_count": 4,
   "metadata": {
    "id": "ol8-7dFJE1Aw"
   },
   "outputs": [
    {
     "name": "stdout",
     "output_type": "stream",
     "text": [
      "4\n"
     ]
    }
   ],
   "source": [
    "class Car:\n",
    "    engine = '4.7L'\n",
    "\n",
    "    def __init__(self, wheels, color, doors, seats):\n",
    "        self.wheels = wheels\n",
    "        self.color = color\n",
    "        self.doors = doors\n",
    "        self.seats = seats\n",
    "\n",
    "        \n",
    "honda = Car(4,'blue', 4,4)\n",
    "mazda = Car(5, 'red', 5,6)\n",
    "hummer = Car(4, 'white', 4,4)\n",
    "print(honda.wheels)\n"
   ]
  },
  {
   "attachments": {},
   "cell_type": "markdown",
   "metadata": {
    "id": "fIN43CNqE1Aw"
   },
   "source": [
    "## Class Methods <br>\n",
    "<p>While inside of a class, functions are referred to as 'methods'. If you hear someone mention methods, they're speaking about classes. Methods are essentially functions, but only callable on the instances of a class.</p>"
   ]
  },
  {
   "attachments": {},
   "cell_type": "markdown",
   "metadata": {
    "id": "C4t23Xw-E1Aw"
   },
   "source": [
    "##### Creating"
   ]
  },
  {
   "cell_type": "code",
   "execution_count": null,
   "metadata": {
    "id": "nxJWEyQeE1Ax"
   },
   "outputs": [],
   "source": [
    "class ShoppingBag:\n",
    "    \"\"\"\n",
    "    The shipping bag class is an object that can hold items. It will have handles, capacity and items to place inside\n",
    "    \n",
    "    Attributes of this class are:\n",
    "        - handles: expected integer input\n",
    "        - capacity: expeted string OR integer input\n",
    "        - items: expected as a list input\n",
    "\n",
    "    Methods of this class:\n",
    "        - show_shopping_bag: display items in bag\n",
    "        - show_capacity: show the current capacity of the bag\n",
    "        - add_to_shopping_bag: add an item to a bag given a user's input\n",
    "        - change_bag_capacity: set a bag to a new capacity\n",
    "        - increase_capacity: this will incease the capcity based on input\n",
    "        - clear_bag: deletes all items from the bag\n",
    "        - remove_item: removes a specific item based on user's input\n",
    "    \n",
    "    \"\"\"\n",
    "    def __init__(self, handles, capacity, items: list):\n",
    "        self.handles = handles\n",
    "        self.capacity = capacity\n",
    "        self.items = items\n",
    "\n",
    "    \n",
    "    # Method that shows the shopping bag items:\n",
    "    def show_shopping_bag(self):\n",
    "        \"\"\"Displays current items in shopping bag\"\"\"\n",
    "        print(\"Here are the items that are in your shopping bag:\")\n",
    "        # Prints each individual item\n",
    "        for item in self.items:\n",
    "            print(item)\n",
    "\n",
    "    \n",
    "    # Method that shows the capacity of the shopping bag\n",
    "    def show_capacity(self):\n",
    "        \"\"\"Shows the current capacity of your shopping bag\"\"\"\n",
    "        print(f\"Your current capacity is: {self.capacity}\")\n",
    "\n",
    "    # Method to add item(s) to the item list for the shopping bad:\n",
    "    def add_to_shopping_bag(self):\n",
    "        \"\"\"Add item to shopping bag based off user input\"\"\"\n",
    "        product = input(\"What would you like to add?\")\n",
    "        self.items.append(product)\n",
    "\n",
    "    # Method to change current capacity of the shopping bag (dynamically):\n",
    "    # static input means to change it to 50, dynamically allows you to change it to any number\n",
    "    def change_bag_capacity(self, capacity: int):\n",
    "        \"\"\"Change the bag capacity based on your input\"\"\"\n",
    "        self.capacity = capacity # this overrides the original self.capacity\n",
    "    # Increase the capacity of the bag by 10 -- default value:\n",
    "\n",
    "\n",
    "    # Method to increase capacity\n",
    "    def increase_capacity(self, changed_capacity =10):\n",
    "        \"\"\"increase shopping bag capacity\"\"\"\n",
    "        if self.capacity == isinstance(self.capacity, str):\n",
    "            self.change_bag_capacity(capacity=int(self.capacity))\n",
    "            self.capacity += changed_capacity\n",
    "        else:\n",
    "            self.capacity += changed_capacity\n",
    "\n",
    "    def clear_bag(self):\n",
    "        \"\"\"clear shopping bag\"\"\"\n",
    "    def remove_item(self):\n",
    "        \"\"\"remove an item(s)\"\"\""
   ]
  },
  {
   "attachments": {},
   "cell_type": "markdown",
   "metadata": {
    "id": "kJ4mLPg5E1Ax"
   },
   "source": [
    "##### Calling"
   ]
  },
  {
   "cell_type": "code",
   "execution_count": null,
   "metadata": {
    "id": "D_I5p-aTE1Ax"
   },
   "outputs": [],
   "source": [
    " #Create the instance of a shopping bag\n",
    "whole_foods_bag =  ShoppingBag(2, 10, {})\n",
    "\n",
    "# Create a function to run the bag methods:\n",
    "def run():\n",
    "    while True:\n",
    "        response = input(\"What do you want to do? Add/Show/Quit\")\n",
    "\n",
    "        if response.lower() in ['quit', 'back']:\n",
    "            whole_foods_bag.show_shopping_bag()\n",
    "            print(\"Thanks for shopping at Whole Foods Market today!\")\n",
    "            break\n",
    "        elif response.lower == 'add':\n",
    "            whole_foods_bag.add_to_shopping_bag()\n",
    "        \n",
    "        elif response.lower() == \"show\":\n",
    "            whole_foods_bag.show_shopping_bag()"
   ]
  },
  {
   "attachments": {},
   "cell_type": "markdown",
   "metadata": {
    "id": "0ZllA5keE1Ax"
   },
   "source": [
    "##### Modifying an Attribute's Value Through a Method"
   ]
  },
  {
   "cell_type": "code",
   "execution_count": null,
   "metadata": {
    "id": "jT_iOoUcE1Ax"
   },
   "outputs": [],
   "source": []
  },
  {
   "attachments": {},
   "cell_type": "markdown",
   "metadata": {
    "id": "pV9obOHAE1Ax"
   },
   "source": [
    "##### Incrementing an Attribute's Value Through a Method"
   ]
  },
  {
   "cell_type": "code",
   "execution_count": null,
   "metadata": {
    "id": "-usVaZplE1Ax"
   },
   "outputs": [],
   "source": []
  },
  {
   "attachments": {},
   "cell_type": "markdown",
   "metadata": {
    "id": "d5P9d_B7E1Ax"
   },
   "source": [
    "##### In-Class Exercise #3 - Add a method that takes in three parameters of year, doors and seats and prints out a formatted print statement with make, model, year, seats, and doors"
   ]
  },
  {
   "cell_type": "code",
   "execution_count": 7,
   "metadata": {
    "id": "u5Tjs1foE1Ax"
   },
   "outputs": [
    {
     "ename": "NameError",
     "evalue": "name 'bmw' is not defined",
     "output_type": "error",
     "traceback": [
      "\u001b[0;31m---------------------------------------------------------------------------\u001b[0m",
      "\u001b[0;31mNameError\u001b[0m                                 Traceback (most recent call last)",
      "Cell \u001b[0;32mIn[7], line 9\u001b[0m\n\u001b[1;32m      7\u001b[0m         \u001b[39mprint\u001b[39m(\u001b[39mf\u001b[39m\u001b[39m'\u001b[39m\u001b[39mYear: \u001b[39m\u001b[39m{\u001b[39;00m\u001b[39mself\u001b[39m\u001b[39m.\u001b[39myear\u001b[39m}\u001b[39;00m\u001b[39m Doors: \u001b[39m\u001b[39m{\u001b[39;00m\u001b[39mself\u001b[39m\u001b[39m.\u001b[39mdoors\u001b[39m}\u001b[39;00m\u001b[39m Seats: \u001b[39m\u001b[39m{\u001b[39;00m\u001b[39mself\u001b[39m\u001b[39m.\u001b[39mseats\u001b[39m}\u001b[39;00m\u001b[39m.\u001b[39m\u001b[39m'\u001b[39m)\n\u001b[1;32m      8\u001b[0m bmv \u001b[39m=\u001b[39m Car3(\u001b[39m2020\u001b[39m,\u001b[39m4\u001b[39m,\u001b[39m4\u001b[39m )\n\u001b[0;32m----> 9\u001b[0m Car3\u001b[39m.\u001b[39mprint_o(bmw)\n",
      "\u001b[0;31mNameError\u001b[0m: name 'bmw' is not defined"
     ]
    }
   ],
   "source": [
    "class Car3:\n",
    "    def __init__(self, year, doors, seats):\n",
    "        self.year = year\n",
    "        self.doors = doors\n",
    "        self.seats = seats\n",
    "    def print_o(self):\n",
    "        print(f'Year: {self.year} Doors: {self.doors} Seats: {self.seats}.')\n",
    "bmw = Car3(2020,4,4 )\n",
    "Car3.print_o(bmw)\n",
    "        "
   ]
  },
  {
   "attachments": {},
   "cell_type": "markdown",
   "metadata": {},
   "source": [
    "### Class Inheritance"
   ]
  },
  {
   "attachments": {},
   "cell_type": "markdown",
   "metadata": {},
   "source": [
    "When we program in OOP(Object Oriented Programming), we create classes that encompass the entirety of a group or populous. For example, car. Cars come in many shapes and forms, however, we are generalizing each into a class named car, based off of attributes and methods that are similar. What happens when we have something that is technically a car, but is so unique, it should have it's own class, with it's own attributes and methods, yet still retain information that it is a car?\n",
    "\n",
    "This is where inheritance comes into play. Just like how we inherit features and attributes from our parents (skin tone, eye shape, body composition), we can have classes inherit from one another. When we talk about inheritance, we typically talk about a child class and a parent class, where the parent class is the class giving attributes and the child class is the one inheriting those attributes.\n",
    "\n",
    "There are multiple types of inheritance:\n",
    "\n",
    "* **Single Inheritance**\n",
    "    * One child-class inherits the features of one parent-class\n",
    "    \n",
    "    ![](https://www.softwaretestinghelp.com/wp-content/qa/uploads/2019/06/Single-inheritance.png)"
   ]
  },
  {
   "cell_type": "code",
   "execution_count": null,
   "metadata": {},
   "outputs": [],
   "source": []
  },
  {
   "attachments": {},
   "cell_type": "markdown",
   "metadata": {},
   "source": [
    "* **Multiple Inheritance**\n",
    "    * One child-class inherits from from multiple parent-classes\n",
    "\n",
    "    ![](https://media.geeksforgeeks.org/wp-content/uploads/sc1-1.png)"
   ]
  },
  {
   "cell_type": "code",
   "execution_count": null,
   "metadata": {},
   "outputs": [],
   "source": []
  },
  {
   "attachments": {},
   "cell_type": "markdown",
   "metadata": {},
   "source": [
    "* **Multi-level Inheritance**\n",
    "    * A base class provides inheritance to a parent class, which provides inheritance to a child class, just like lineage is passed down from generation to generation\n",
    "    * This allows the child class to be derived of the base, without ever accessing the base class.\n",
    "\n",
    "     ![](https://upload.wikimedia.org/wikipedia/en/0/0e/Multilevel_Inheritance.jpg)"
   ]
  },
  {
   "cell_type": "code",
   "execution_count": null,
   "metadata": {},
   "outputs": [],
   "source": []
  },
  {
   "cell_type": "code",
   "execution_count": null,
   "metadata": {},
   "outputs": [],
   "source": []
  }
 ],
 "metadata": {
  "colab": {
   "provenance": [
    {
     "file_id": "1wDmopKqYDjbH4FtK1wEWVsTIdqRGRJYq",
     "timestamp": 1675696515120
    }
   ]
  },
  "kernelspec": {
   "display_name": "Python 3 (ipykernel)",
   "language": "python",
   "name": "python3"
  },
  "language_info": {
   "codemirror_mode": {
    "name": "ipython",
    "version": 3
   },
   "file_extension": ".py",
   "mimetype": "text/x-python",
   "name": "python",
   "nbconvert_exporter": "python",
   "pygments_lexer": "ipython3",
   "version": "3.9.6"
  },
  "vscode": {
   "interpreter": {
    "hash": "26de051ba29f2982a8de78e945f0abaf191376122a1563185a90213a26c5da77"
   }
  }
 },
 "nbformat": 4,
 "nbformat_minor": 1
}
